{
  "nbformat": 4,
  "nbformat_minor": 0,
  "metadata": {
    "colab": {
      "provenance": []
    },
    "kernelspec": {
      "name": "python3",
      "display_name": "Python 3"
    },
    "language_info": {
      "name": "python"
    }
  },
  "cells": [
    {
      "cell_type": "code",
      "execution_count": null,
      "metadata": {
        "id": "IZhkir_Y6yy6"
      },
      "outputs": [],
      "source": [
        "## code Implementation\n",
        "\n",
        "def Residual_block(x, filters, downsample=False):\n",
        "  strides = (2, 2) if downsample else (1, 1)\n",
        "\n",
        "  # First Conv2D Layer of the Block\n",
        "\n",
        "  y = Conv2D(filters, kernel_size = (3, 3), strides = strides, padding ='same')(x)\n",
        "  y = BatchNormalization()(y)\n",
        "  y = Activation('relu')(y)\n",
        "\n",
        "\n",
        "  ## Second Convolutional Layer of the block\n",
        "  y = Conv2D(filters, kernel_size = (3, 3), strides = strides, padding = 'same')(y)\n",
        "  y = BatchNormalization()(y)\n",
        "\n",
        "  ##Skip connection if downsample or number of filters change\n",
        "  if downsample:\n",
        "    x = Canv2D(filters, kernel_size = (3, 3), strides = (2, 2), padding = 'same')(x)\n",
        "\n",
        "\n",
        "  ## Add Skip Connection\n",
        "  y = add()([x, y])\n",
        "  y = Activation('relu')(y)\n",
        "  return y\n",
        "\n",
        "\n",
        "##Build The ResNet Model\n",
        "def resnet(input_shape, num_classes):\n",
        "  inputs = keras.Input(shape = input_shape)\n",
        "\n",
        "  ## Intial Convolutional Layer\n",
        "  x = Conv2D(16, kernel_size = (3,3), strides = (1,1), padding = ' same ')(inputs)\n",
        "  x = BatchNormalization()(x)\n",
        "  x = Activation('relu')(x)\n",
        "\n",
        "  #Residual Blocks\n",
        "\n",
        "  x = Residual_block(x, filters = 16)\n",
        "  x = Residual_block(x, filters = 16)\n",
        "  x = Residual_block(x, filters = 16, doensample = True)\n",
        "  x = Residual_block(x, filters = 16)\n",
        "  x = Residual_block(x, filters = 16, downsample = True)\n",
        "  x = Residual_block(x, filters = 16)\n",
        "\n",
        "\n",
        "  ## Average Pooling and Output Layer\n",
        "  x = AveragePooling2D(pool_size = (8,8))(x)\n",
        "  x = Flatten()(x)\n",
        "\n",
        "  outputs = Dense(num_classes, activation = 'softmax')(x)\n",
        "\n",
        "  model = Model(input=inputs, outputs = outputs)\n",
        "  return model\n",
        "\n",
        "\n",
        "\n",
        "\n",
        "\n"
      ]
    },
    {
      "cell_type": "code",
      "source": [
        "# Create the ResNet model\n",
        "model = resnet(input_shape=(224, 224, 3), num_classes=17)\n",
        "\n",
        "# Compile the model\n",
        "model.compile(optimizer=Adam(lr=0.001), loss='categorical_crossentropy', metrics=['accuracy'])\n",
        "\n",
        "# Train\n",
        "model.fit(x_train, y_train, batch_size=64, epochs=5, verbose=1,validation_split=0.2, shuffle=True)\n"
      ],
      "metadata": {
        "colab": {
          "base_uri": "https://localhost:8080/",
          "height": 349
        },
        "id": "9AhvXnP7EptQ",
        "outputId": "d899921b-f59a-4c19-c6e5-cb157d54ab3b"
      },
      "execution_count": null,
      "outputs": [
        {
          "output_type": "error",
          "ename": "NameError",
          "evalue": "name 'keras' is not defined",
          "traceback": [
            "\u001b[0;31m---------------------------------------------------------------------------\u001b[0m",
            "\u001b[0;31mNameError\u001b[0m                                 Traceback (most recent call last)",
            "\u001b[0;32m<ipython-input-2-28144489292c>\u001b[0m in \u001b[0;36m<cell line: 2>\u001b[0;34m()\u001b[0m\n\u001b[1;32m      1\u001b[0m \u001b[0;31m# Create the ResNet model\u001b[0m\u001b[0;34m\u001b[0m\u001b[0;34m\u001b[0m\u001b[0m\n\u001b[0;32m----> 2\u001b[0;31m \u001b[0mmodel\u001b[0m \u001b[0;34m=\u001b[0m \u001b[0mresnet\u001b[0m\u001b[0;34m(\u001b[0m\u001b[0minput_shape\u001b[0m\u001b[0;34m=\u001b[0m\u001b[0;34m(\u001b[0m\u001b[0;36m224\u001b[0m\u001b[0;34m,\u001b[0m \u001b[0;36m224\u001b[0m\u001b[0;34m,\u001b[0m \u001b[0;36m3\u001b[0m\u001b[0;34m)\u001b[0m\u001b[0;34m,\u001b[0m \u001b[0mnum_classes\u001b[0m\u001b[0;34m=\u001b[0m\u001b[0;36m17\u001b[0m\u001b[0;34m)\u001b[0m\u001b[0;34m\u001b[0m\u001b[0;34m\u001b[0m\u001b[0m\n\u001b[0m\u001b[1;32m      3\u001b[0m \u001b[0;34m\u001b[0m\u001b[0m\n\u001b[1;32m      4\u001b[0m \u001b[0;31m# Compile the model\u001b[0m\u001b[0;34m\u001b[0m\u001b[0;34m\u001b[0m\u001b[0m\n\u001b[1;32m      5\u001b[0m \u001b[0mmodel\u001b[0m\u001b[0;34m.\u001b[0m\u001b[0mcompile\u001b[0m\u001b[0;34m(\u001b[0m\u001b[0moptimizer\u001b[0m\u001b[0;34m=\u001b[0m\u001b[0mAdam\u001b[0m\u001b[0;34m(\u001b[0m\u001b[0mlr\u001b[0m\u001b[0;34m=\u001b[0m\u001b[0;36m0.001\u001b[0m\u001b[0;34m)\u001b[0m\u001b[0;34m,\u001b[0m \u001b[0mloss\u001b[0m\u001b[0;34m=\u001b[0m\u001b[0;34m'categorical_crossentropy'\u001b[0m\u001b[0;34m,\u001b[0m \u001b[0mmetrics\u001b[0m\u001b[0;34m=\u001b[0m\u001b[0;34m[\u001b[0m\u001b[0;34m'accuracy'\u001b[0m\u001b[0;34m]\u001b[0m\u001b[0;34m)\u001b[0m\u001b[0;34m\u001b[0m\u001b[0;34m\u001b[0m\u001b[0m\n",
            "\u001b[0;32m<ipython-input-1-6241c351327c>\u001b[0m in \u001b[0;36mresnet\u001b[0;34m(input_shape, num_classes)\u001b[0m\n\u001b[1;32m     28\u001b[0m \u001b[0;31m##Build The ResNet Model\u001b[0m\u001b[0;34m\u001b[0m\u001b[0;34m\u001b[0m\u001b[0m\n\u001b[1;32m     29\u001b[0m \u001b[0;32mdef\u001b[0m \u001b[0mresnet\u001b[0m\u001b[0;34m(\u001b[0m\u001b[0minput_shape\u001b[0m\u001b[0;34m,\u001b[0m \u001b[0mnum_classes\u001b[0m\u001b[0;34m)\u001b[0m\u001b[0;34m:\u001b[0m\u001b[0;34m\u001b[0m\u001b[0;34m\u001b[0m\u001b[0m\n\u001b[0;32m---> 30\u001b[0;31m   \u001b[0minputs\u001b[0m \u001b[0;34m=\u001b[0m \u001b[0mkeras\u001b[0m\u001b[0;34m.\u001b[0m\u001b[0mInput\u001b[0m\u001b[0;34m(\u001b[0m\u001b[0mshape\u001b[0m \u001b[0;34m=\u001b[0m \u001b[0minput_shape\u001b[0m\u001b[0;34m)\u001b[0m\u001b[0;34m\u001b[0m\u001b[0;34m\u001b[0m\u001b[0m\n\u001b[0m\u001b[1;32m     31\u001b[0m \u001b[0;34m\u001b[0m\u001b[0m\n\u001b[1;32m     32\u001b[0m   \u001b[0;31m## Intial Convolutional Layer\u001b[0m\u001b[0;34m\u001b[0m\u001b[0;34m\u001b[0m\u001b[0m\n",
            "\u001b[0;31mNameError\u001b[0m: name 'keras' is not defined"
          ]
        }
      ]
    },
    {
      "cell_type": "code",
      "source": [],
      "metadata": {
        "id": "dDBATH_3FNHj"
      },
      "execution_count": null,
      "outputs": []
    }
  ]
}