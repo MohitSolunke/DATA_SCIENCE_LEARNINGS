{
 "cells": [
  {
   "cell_type": "markdown",
   "id": "8b5d265f-c35d-4259-9f4b-7ad73bc93d2e",
   "metadata": {},
   "source": [
    "# PERCEPTRON"
   ]
  },
  {
   "cell_type": "markdown",
   "id": "4571e0ec-e0dd-4b13-b07c-290dc5dd6b87",
   "metadata": {},
   "source": [
    "# ANN: Artificial Neural Networks\n",
    "\n",
    "- ANNs are inspired by biological neurons found in cerebral cortex of our brain.\n",
    "\n",
    "- The cerebral cortex (plural cortices), also known as the cerebral mantle, is the outer layer of neural tissue of the cerebrum of the brain in humans and other mammals.\n",
    "\n",
    "![neuron_image](https://user-images.githubusercontent.com/115534733/234502592-3c8ea082-ea3f-475a-a437-87a2d1d2cf72.jpg)\n",
    "\n",
    "In the above diagram we can neurons of human brains, these neurons resemble the ANN."
   ]
  },
  {
   "cell_type": "markdown",
   "id": "08a75341-8084-46cb-9f6a-3bfafb019499",
   "metadata": {},
   "source": [
    "![brain_image](https://user-images.githubusercontent.com/115534733/234519779-a1de0230-bec8-4d74-98fd-b29da702b7e2.jpg)\n",
    "\n",
    "The largest and most important part of the human brain is the cerebral cortex. Although it cannot be observed directly, various regions within the cortex are responsible for different functions, as shown in the diagram. The cortex plays a crucial role in important cognitive processes such as memory, attention, perception, thinking, language, and awareness.\n"
   ]
  },
  {
   "cell_type": "markdown",
   "id": "490205f4-c857-4f80-a61e-aa7ae1d39e11",
   "metadata": {},
   "source": [
    "### Biological Neuron\n",
    "\n",
    "![single_neuron](https://user-images.githubusercontent.com/115534733/234521312-8b1ead11-cec6-4595-b3e9-acdb56dabe52.jpg)\n",
    "\n",
    "- Biological Neuron produce short electrical impulses known as action potentials which travels through axons to the synapses which releases chemical signals i.e neurotransmitters.\n",
    "\n",
    "- When a connected neuron receives a sufficient amount of these neurotransmitters within a few milliseconds, it fires ( or does not fires, think of a NOT gate here) its own action potential or electrical impulse.\n",
    "\n",
    "- These simple units form a strong network known as Biological Neural Network (BNN) to perform very complex computation task.\n",
    "\n",
    "- Similar to the Biological neuron we have artificial neuron which can be used to perform complex computation task.\n"
   ]
  },
  {
   "cell_type": "markdown",
   "id": "ea8cb8eb-b788-4fea-ad33-57974073dcfb",
   "metadata": {},
   "source": [
    "## The Perceptron\n",
    "\n",
    "* Its the simplest ANN architecture. It was invented by Frank Rosenblatt in 1957 and published as `Rosenblatt, Frank (1958), The Perceptron: A Probabilistic Model for Information Storage and Organization in the Brain, Cornell Aeronautical Laboratory, Psychological Review, v65, No. 6, pp. 386–408. doi:10.1037/h0042519`\n",
    "* It has different architecture then the first neuron that we have seen above. Its known as threshold logic unit(TLU) or linear threshold unit (LTU).\n",
    "* Here inputs are not just binary.\n",
    "* Lets see the architecture shown below -\n",
    "    \n",
    "    <a title=\"Chrislb / CC BY-SA (http://creativecommons.org/licenses/by-sa/3.0/)\" href=\"https://commons.wikimedia.org/wiki/File:ArtificialNeuronModel_english.png\"><img width=\"1024\" alt=\"ArtificialNeuronModel english\" src=\"https://upload.wikimedia.org/wikipedia/commons/thumb/6/60/ArtificialNeuronModel_english.png/1024px-ArtificialNeuronModel_english.png\"></a>"
   ]
  },
  {
   "cell_type": "markdown",
   "id": "94674553-44df-4506-a8c2-a6f067588f68",
   "metadata": {},
   "source": [
    "    * Common activation functions used for Perceptrons are (with threshold at 0)-\n",
    "\n",
    "$$step(z)\\ or\\ heaviside(z) = \\left\\{\\begin{matrix}\n",
    "0 & z<0\\\\\n",
    "1 & z\\geq 0\n",
    "\\end{matrix}\\right.$$\n",
    "\n",
    "- In the further tutorials we will study more about activation functions, for now we can understand **activation functions** are mathematical equations that are applied to the output of a neural network node, in order to introduce non-linearity into the output. These functions help the neural network to learn and model complex patterns in the data. Activation functions are a key component of artificial neural networks and are used to determine the output of each neuron based on the input it receives. There are many types of activation functions, including **sigmoid, ReLU, tanh, and softmax**, each with their own unique properties and use cases."
   ]
  },
  {
   "cell_type": "code",
   "execution_count": null,
   "id": "0b976ccd-389a-43e1-9ccf-abcfecfbef21",
   "metadata": {},
   "outputs": [],
   "source": [
    "import numpy as np\n",
    "import matplotlib.pyplot as plt\n",
    "plt.style.use(\"fivethirtyeight\")\n",
    "\n",
    "x_axis = np.linspace(-2,2,200)\n",
    "step = np.where(x_axis < 0, 0, 1)\n",
    "\n",
    "plt.plot(x_axis, step)\n",
    "plt.xlabel(\"x_axis\")\n",
    "plt.ylabel(r\"$step(z)$\")\n",
    "plt.axhline(0, color='k', lw=1);\n",
    "plt.axvline(0, color='k', lw=1);"
   ]
  },
  {
   "cell_type": "code",
   "execution_count": 6,
   "id": "87a52324-0e7f-4c3f-9747-b453ec125b65",
   "metadata": {},
   "outputs": [],
   "source": [
    "import pandas as pd\n",
    "import numpy as np\n",
    "import matplotlib.pyplot as plt\n",
    "import joblib"
   ]
  },
  {
   "cell_type": "code",
   "execution_count": 7,
   "id": "e8a030cf-bf6d-449a-bdd0-ea11d5887ebe",
   "metadata": {},
   "outputs": [],
   "source": [
    "class Perceptron:\n",
    "  def __init__(self, eta, epochs):\n",
    "    self.weights = np.random.randn(3) * 1e-4\n",
    "    print(f\"self.weights: {self.weights}\")\n",
    "    self.eta = eta\n",
    "    self.epochs = epochs\n",
    "\n",
    "  def activationFunction(self, inputs, weights):\n",
    "    z = np.dot(inputs, weights)\n",
    "    return np.where(z > 0 , 1, 0)\n",
    "\n",
    "  def fit(self, X, y):\n",
    "    self.X = X\n",
    "    self.y = y\n",
    "\n",
    "    X_with_bias = np.c_[self.X, -np.ones((len(self.X), 1))] # concactination\n",
    "    print(f\"X_with_bias: \\n{X_with_bias}\")\n",
    "\n",
    "    for epoch in range(self.epochs):\n",
    "      print(f\"for epoch: {epoch}\")\n",
    "      y_hat = self.activationFunction(X_with_bias, self.weights)\n",
    "      print(f\"predicted value: \\n{y_hat}\")\n",
    "      error = self.y - y_hat\n",
    "      print(f\"error: \\n{error}\")\n",
    "      self.weights = self.weights + self.eta * np.dot(X_with_bias.T, error)\n",
    "      print(f\"updated weights: \\n{self.weights}\")\n",
    "      print(\"#############\\n\")\n",
    "\n",
    "  def predict(self, X):\n",
    "    X_with_bias = np.c_[X, -np.ones((len(self.X), 1))]\n",
    "    return self.activationFunction(X_with_bias, self.weights)"
   ]
  },
  {
   "cell_type": "markdown",
   "id": "f6ee2f44-bcdf-4619-9eca-64e828fcd3dc",
   "metadata": {},
   "source": [
    "# AND Operation"
   ]
  },
  {
   "cell_type": "code",
   "execution_count": 8,
   "id": "bf24b09e-837d-46d7-975c-1461c88ffe1c",
   "metadata": {},
   "outputs": [
    {
     "data": {
      "text/html": [
       "<div>\n",
       "<style scoped>\n",
       "    .dataframe tbody tr th:only-of-type {\n",
       "        vertical-align: middle;\n",
       "    }\n",
       "\n",
       "    .dataframe tbody tr th {\n",
       "        vertical-align: top;\n",
       "    }\n",
       "\n",
       "    .dataframe thead th {\n",
       "        text-align: right;\n",
       "    }\n",
       "</style>\n",
       "<table border=\"1\" class=\"dataframe\">\n",
       "  <thead>\n",
       "    <tr style=\"text-align: right;\">\n",
       "      <th></th>\n",
       "      <th>x1</th>\n",
       "      <th>x2</th>\n",
       "      <th>y</th>\n",
       "    </tr>\n",
       "  </thead>\n",
       "  <tbody>\n",
       "    <tr>\n",
       "      <th>0</th>\n",
       "      <td>0</td>\n",
       "      <td>0</td>\n",
       "      <td>0</td>\n",
       "    </tr>\n",
       "    <tr>\n",
       "      <th>1</th>\n",
       "      <td>0</td>\n",
       "      <td>1</td>\n",
       "      <td>0</td>\n",
       "    </tr>\n",
       "    <tr>\n",
       "      <th>2</th>\n",
       "      <td>1</td>\n",
       "      <td>0</td>\n",
       "      <td>0</td>\n",
       "    </tr>\n",
       "    <tr>\n",
       "      <th>3</th>\n",
       "      <td>1</td>\n",
       "      <td>1</td>\n",
       "      <td>1</td>\n",
       "    </tr>\n",
       "  </tbody>\n",
       "</table>\n",
       "</div>"
      ],
      "text/plain": [
       "   x1  x2  y\n",
       "0   0   0  0\n",
       "1   0   1  0\n",
       "2   1   0  0\n",
       "3   1   1  1"
      ]
     },
     "execution_count": 8,
     "metadata": {},
     "output_type": "execute_result"
    }
   ],
   "source": [
    "data = {\"x1\": [0,0,1,1], \"x2\": [0,1,0,1], \"y\": [0,0,0,1]}\n",
    "\n",
    "AND = pd.DataFrame(data)\n",
    "AND"
   ]
  },
  {
   "cell_type": "code",
   "execution_count": 9,
   "id": "1e82ceb1-17d2-4f6a-b20b-4672b22b3ade",
   "metadata": {},
   "outputs": [
    {
     "data": {
      "text/html": [
       "<div>\n",
       "<style scoped>\n",
       "    .dataframe tbody tr th:only-of-type {\n",
       "        vertical-align: middle;\n",
       "    }\n",
       "\n",
       "    .dataframe tbody tr th {\n",
       "        vertical-align: top;\n",
       "    }\n",
       "\n",
       "    .dataframe thead th {\n",
       "        text-align: right;\n",
       "    }\n",
       "</style>\n",
       "<table border=\"1\" class=\"dataframe\">\n",
       "  <thead>\n",
       "    <tr style=\"text-align: right;\">\n",
       "      <th></th>\n",
       "      <th>x1</th>\n",
       "      <th>x2</th>\n",
       "    </tr>\n",
       "  </thead>\n",
       "  <tbody>\n",
       "    <tr>\n",
       "      <th>0</th>\n",
       "      <td>0</td>\n",
       "      <td>0</td>\n",
       "    </tr>\n",
       "    <tr>\n",
       "      <th>1</th>\n",
       "      <td>0</td>\n",
       "      <td>1</td>\n",
       "    </tr>\n",
       "    <tr>\n",
       "      <th>2</th>\n",
       "      <td>1</td>\n",
       "      <td>0</td>\n",
       "    </tr>\n",
       "    <tr>\n",
       "      <th>3</th>\n",
       "      <td>1</td>\n",
       "      <td>1</td>\n",
       "    </tr>\n",
       "  </tbody>\n",
       "</table>\n",
       "</div>"
      ],
      "text/plain": [
       "   x1  x2\n",
       "0   0   0\n",
       "1   0   1\n",
       "2   1   0\n",
       "3   1   1"
      ]
     },
     "execution_count": 9,
     "metadata": {},
     "output_type": "execute_result"
    }
   ],
   "source": [
    "X = AND.drop(\"y\", axis=1)\n",
    "X"
   ]
  },
  {
   "cell_type": "code",
   "execution_count": 12,
   "id": "08a9595f-a381-40fa-929e-f0884ff57853",
   "metadata": {},
   "outputs": [
    {
     "data": {
      "text/html": [
       "<div>\n",
       "<style scoped>\n",
       "    .dataframe tbody tr th:only-of-type {\n",
       "        vertical-align: middle;\n",
       "    }\n",
       "\n",
       "    .dataframe tbody tr th {\n",
       "        vertical-align: top;\n",
       "    }\n",
       "\n",
       "    .dataframe thead th {\n",
       "        text-align: right;\n",
       "    }\n",
       "</style>\n",
       "<table border=\"1\" class=\"dataframe\">\n",
       "  <thead>\n",
       "    <tr style=\"text-align: right;\">\n",
       "      <th></th>\n",
       "      <th>y</th>\n",
       "    </tr>\n",
       "  </thead>\n",
       "  <tbody>\n",
       "    <tr>\n",
       "      <th>0</th>\n",
       "      <td>0</td>\n",
       "    </tr>\n",
       "    <tr>\n",
       "      <th>1</th>\n",
       "      <td>0</td>\n",
       "    </tr>\n",
       "    <tr>\n",
       "      <th>2</th>\n",
       "      <td>0</td>\n",
       "    </tr>\n",
       "    <tr>\n",
       "      <th>3</th>\n",
       "      <td>1</td>\n",
       "    </tr>\n",
       "  </tbody>\n",
       "</table>\n",
       "</div>"
      ],
      "text/plain": [
       "   y\n",
       "0  0\n",
       "1  0\n",
       "2  0\n",
       "3  1"
      ]
     },
     "execution_count": 12,
     "metadata": {},
     "output_type": "execute_result"
    }
   ],
   "source": [
    "y = AND['y']\n",
    "y.to_frame()"
   ]
  },
  {
   "cell_type": "code",
   "execution_count": 13,
   "id": "69424943-6eb2-44aa-8b3b-0be179f62406",
   "metadata": {},
   "outputs": [
    {
     "name": "stdout",
     "output_type": "stream",
     "text": [
      "self.weights: [-1.14158992e-04  3.60282505e-05  1.28643161e-04]\n",
      "X_with_bias: \n",
      "[[ 0.  0. -1.]\n",
      " [ 0.  1. -1.]\n",
      " [ 1.  0. -1.]\n",
      " [ 1.  1. -1.]]\n",
      "for epoch: 0\n",
      "predicted value: \n",
      "[0 0 0 0]\n",
      "error: \n",
      "0    0\n",
      "1    0\n",
      "2    0\n",
      "3    1\n",
      "Name: y, dtype: int64\n",
      "updated weights: \n",
      "[ 0.49988584  0.50003603 -0.49987136]\n",
      "#############\n",
      "\n",
      "for epoch: 1\n",
      "predicted value: \n",
      "[1 1 1 1]\n",
      "error: \n",
      "0   -1\n",
      "1   -1\n",
      "2   -1\n",
      "3    0\n",
      "Name: y, dtype: int64\n",
      "updated weights: \n",
      "[-1.14158992e-04  3.60282505e-05  1.00012864e+00]\n",
      "#############\n",
      "\n",
      "for epoch: 2\n",
      "predicted value: \n",
      "[0 0 0 0]\n",
      "error: \n",
      "0    0\n",
      "1    0\n",
      "2    0\n",
      "3    1\n",
      "Name: y, dtype: int64\n",
      "updated weights: \n",
      "[0.49988584 0.50003603 0.50012864]\n",
      "#############\n",
      "\n",
      "for epoch: 3\n",
      "predicted value: \n",
      "[0 0 0 1]\n",
      "error: \n",
      "0    0\n",
      "1    0\n",
      "2    0\n",
      "3    0\n",
      "Name: y, dtype: int64\n",
      "updated weights: \n",
      "[0.49988584 0.50003603 0.50012864]\n",
      "#############\n",
      "\n",
      "for epoch: 4\n",
      "predicted value: \n",
      "[0 0 0 1]\n",
      "error: \n",
      "0    0\n",
      "1    0\n",
      "2    0\n",
      "3    0\n",
      "Name: y, dtype: int64\n",
      "updated weights: \n",
      "[0.49988584 0.50003603 0.50012864]\n",
      "#############\n",
      "\n",
      "for epoch: 5\n",
      "predicted value: \n",
      "[0 0 0 1]\n",
      "error: \n",
      "0    0\n",
      "1    0\n",
      "2    0\n",
      "3    0\n",
      "Name: y, dtype: int64\n",
      "updated weights: \n",
      "[0.49988584 0.50003603 0.50012864]\n",
      "#############\n",
      "\n",
      "for epoch: 6\n",
      "predicted value: \n",
      "[0 0 0 1]\n",
      "error: \n",
      "0    0\n",
      "1    0\n",
      "2    0\n",
      "3    0\n",
      "Name: y, dtype: int64\n",
      "updated weights: \n",
      "[0.49988584 0.50003603 0.50012864]\n",
      "#############\n",
      "\n",
      "for epoch: 7\n",
      "predicted value: \n",
      "[0 0 0 1]\n",
      "error: \n",
      "0    0\n",
      "1    0\n",
      "2    0\n",
      "3    0\n",
      "Name: y, dtype: int64\n",
      "updated weights: \n",
      "[0.49988584 0.50003603 0.50012864]\n",
      "#############\n",
      "\n",
      "for epoch: 8\n",
      "predicted value: \n",
      "[0 0 0 1]\n",
      "error: \n",
      "0    0\n",
      "1    0\n",
      "2    0\n",
      "3    0\n",
      "Name: y, dtype: int64\n",
      "updated weights: \n",
      "[0.49988584 0.50003603 0.50012864]\n",
      "#############\n",
      "\n",
      "for epoch: 9\n",
      "predicted value: \n",
      "[0 0 0 1]\n",
      "error: \n",
      "0    0\n",
      "1    0\n",
      "2    0\n",
      "3    0\n",
      "Name: y, dtype: int64\n",
      "updated weights: \n",
      "[0.49988584 0.50003603 0.50012864]\n",
      "#############\n",
      "\n"
     ]
    }
   ],
   "source": [
    "model = Perceptron(eta = 0.5, epochs=10)\n",
    "model.fit(X,y)"
   ]
  },
  {
   "cell_type": "code",
   "execution_count": 14,
   "id": "00766c8a-80dc-42a7-8c82-b93f55ede8e3",
   "metadata": {},
   "outputs": [
    {
     "data": {
      "text/plain": [
       "array([0, 0, 0, 1])"
      ]
     },
     "execution_count": 14,
     "metadata": {},
     "output_type": "execute_result"
    }
   ],
   "source": [
    "model.predict(X)"
   ]
  },
  {
   "cell_type": "code",
   "execution_count": 15,
   "id": "f4a238f5-b007-419e-81e4-d2b31cb558fb",
   "metadata": {},
   "outputs": [
    {
     "data": {
      "text/plain": [
       "array([0.49988584, 0.50003603, 0.50012864])"
      ]
     },
     "execution_count": 15,
     "metadata": {},
     "output_type": "execute_result"
    }
   ],
   "source": [
    "model.weights"
   ]
  },
  {
   "cell_type": "markdown",
   "id": "67b85470-af09-49d2-b1a0-4b20aa026114",
   "metadata": {},
   "source": [
    "---\n",
    "# OR Operation:"
   ]
  },
  {
   "cell_type": "code",
   "execution_count": 16,
   "id": "0d9a76bb-c2e3-42bf-a70d-6855f92bfb5a",
   "metadata": {},
   "outputs": [
    {
     "data": {
      "text/html": [
       "<div>\n",
       "<style scoped>\n",
       "    .dataframe tbody tr th:only-of-type {\n",
       "        vertical-align: middle;\n",
       "    }\n",
       "\n",
       "    .dataframe tbody tr th {\n",
       "        vertical-align: top;\n",
       "    }\n",
       "\n",
       "    .dataframe thead th {\n",
       "        text-align: right;\n",
       "    }\n",
       "</style>\n",
       "<table border=\"1\" class=\"dataframe\">\n",
       "  <thead>\n",
       "    <tr style=\"text-align: right;\">\n",
       "      <th></th>\n",
       "      <th>x1</th>\n",
       "      <th>x2</th>\n",
       "      <th>y</th>\n",
       "    </tr>\n",
       "  </thead>\n",
       "  <tbody>\n",
       "    <tr>\n",
       "      <th>0</th>\n",
       "      <td>0</td>\n",
       "      <td>0</td>\n",
       "      <td>0</td>\n",
       "    </tr>\n",
       "    <tr>\n",
       "      <th>1</th>\n",
       "      <td>0</td>\n",
       "      <td>1</td>\n",
       "      <td>1</td>\n",
       "    </tr>\n",
       "    <tr>\n",
       "      <th>2</th>\n",
       "      <td>1</td>\n",
       "      <td>0</td>\n",
       "      <td>1</td>\n",
       "    </tr>\n",
       "    <tr>\n",
       "      <th>3</th>\n",
       "      <td>1</td>\n",
       "      <td>1</td>\n",
       "      <td>1</td>\n",
       "    </tr>\n",
       "  </tbody>\n",
       "</table>\n",
       "</div>"
      ],
      "text/plain": [
       "   x1  x2  y\n",
       "0   0   0  0\n",
       "1   0   1  1\n",
       "2   1   0  1\n",
       "3   1   1  1"
      ]
     },
     "execution_count": 16,
     "metadata": {},
     "output_type": "execute_result"
    }
   ],
   "source": [
    "data = {\"x1\": [0,0,1,1], \"x2\": [0,1,0,1], \"y\": [0,1,1,1]}\n",
    "\n",
    "OR = pd.DataFrame(data)\n",
    "OR"
   ]
  },
  {
   "cell_type": "code",
   "execution_count": 17,
   "id": "5e499985-3e5d-4173-8c90-38289a27540a",
   "metadata": {},
   "outputs": [
    {
     "data": {
      "text/html": [
       "<div>\n",
       "<style scoped>\n",
       "    .dataframe tbody tr th:only-of-type {\n",
       "        vertical-align: middle;\n",
       "    }\n",
       "\n",
       "    .dataframe tbody tr th {\n",
       "        vertical-align: top;\n",
       "    }\n",
       "\n",
       "    .dataframe thead th {\n",
       "        text-align: right;\n",
       "    }\n",
       "</style>\n",
       "<table border=\"1\" class=\"dataframe\">\n",
       "  <thead>\n",
       "    <tr style=\"text-align: right;\">\n",
       "      <th></th>\n",
       "      <th>x1</th>\n",
       "      <th>x2</th>\n",
       "    </tr>\n",
       "  </thead>\n",
       "  <tbody>\n",
       "    <tr>\n",
       "      <th>0</th>\n",
       "      <td>0</td>\n",
       "      <td>0</td>\n",
       "    </tr>\n",
       "    <tr>\n",
       "      <th>1</th>\n",
       "      <td>0</td>\n",
       "      <td>1</td>\n",
       "    </tr>\n",
       "    <tr>\n",
       "      <th>2</th>\n",
       "      <td>1</td>\n",
       "      <td>0</td>\n",
       "    </tr>\n",
       "    <tr>\n",
       "      <th>3</th>\n",
       "      <td>1</td>\n",
       "      <td>1</td>\n",
       "    </tr>\n",
       "  </tbody>\n",
       "</table>\n",
       "</div>"
      ],
      "text/plain": [
       "   x1  x2\n",
       "0   0   0\n",
       "1   0   1\n",
       "2   1   0\n",
       "3   1   1"
      ]
     },
     "execution_count": 17,
     "metadata": {},
     "output_type": "execute_result"
    }
   ],
   "source": [
    "X = OR.drop(\"y\", axis=1)\n",
    "X"
   ]
  },
  {
   "cell_type": "code",
   "execution_count": 18,
   "id": "56150241-09e1-437c-bae9-b3ab2e43e914",
   "metadata": {},
   "outputs": [
    {
     "data": {
      "text/html": [
       "<div>\n",
       "<style scoped>\n",
       "    .dataframe tbody tr th:only-of-type {\n",
       "        vertical-align: middle;\n",
       "    }\n",
       "\n",
       "    .dataframe tbody tr th {\n",
       "        vertical-align: top;\n",
       "    }\n",
       "\n",
       "    .dataframe thead th {\n",
       "        text-align: right;\n",
       "    }\n",
       "</style>\n",
       "<table border=\"1\" class=\"dataframe\">\n",
       "  <thead>\n",
       "    <tr style=\"text-align: right;\">\n",
       "      <th></th>\n",
       "      <th>y</th>\n",
       "    </tr>\n",
       "  </thead>\n",
       "  <tbody>\n",
       "    <tr>\n",
       "      <th>0</th>\n",
       "      <td>0</td>\n",
       "    </tr>\n",
       "    <tr>\n",
       "      <th>1</th>\n",
       "      <td>1</td>\n",
       "    </tr>\n",
       "    <tr>\n",
       "      <th>2</th>\n",
       "      <td>1</td>\n",
       "    </tr>\n",
       "    <tr>\n",
       "      <th>3</th>\n",
       "      <td>1</td>\n",
       "    </tr>\n",
       "  </tbody>\n",
       "</table>\n",
       "</div>"
      ],
      "text/plain": [
       "   y\n",
       "0  0\n",
       "1  1\n",
       "2  1\n",
       "3  1"
      ]
     },
     "execution_count": 18,
     "metadata": {},
     "output_type": "execute_result"
    }
   ],
   "source": [
    "y = OR['y']\n",
    "y.to_frame()"
   ]
  },
  {
   "cell_type": "code",
   "execution_count": 19,
   "id": "844197d4-68c5-4da6-92d6-eca133317fd6",
   "metadata": {},
   "outputs": [
    {
     "name": "stdout",
     "output_type": "stream",
     "text": [
      "self.weights: [ 9.39131316e-05 -2.12373457e-04  2.71054481e-04]\n",
      "X_with_bias: \n",
      "[[ 0.  0. -1.]\n",
      " [ 0.  1. -1.]\n",
      " [ 1.  0. -1.]\n",
      " [ 1.  1. -1.]]\n",
      "for epoch: 0\n",
      "predicted value: \n",
      "[0 0 0 0]\n",
      "error: \n",
      "0    0\n",
      "1    1\n",
      "2    1\n",
      "3    1\n",
      "Name: y, dtype: int64\n",
      "updated weights: \n",
      "[ 1.00009391  0.99978763 -1.49972895]\n",
      "#############\n",
      "\n",
      "for epoch: 1\n",
      "predicted value: \n",
      "[1 1 1 1]\n",
      "error: \n",
      "0   -1\n",
      "1    0\n",
      "2    0\n",
      "3    0\n",
      "Name: y, dtype: int64\n",
      "updated weights: \n",
      "[ 1.00009391  0.99978763 -0.99972895]\n",
      "#############\n",
      "\n",
      "for epoch: 2\n",
      "predicted value: \n",
      "[1 1 1 1]\n",
      "error: \n",
      "0   -1\n",
      "1    0\n",
      "2    0\n",
      "3    0\n",
      "Name: y, dtype: int64\n",
      "updated weights: \n",
      "[ 1.00009391  0.99978763 -0.49972895]\n",
      "#############\n",
      "\n",
      "for epoch: 3\n",
      "predicted value: \n",
      "[1 1 1 1]\n",
      "error: \n",
      "0   -1\n",
      "1    0\n",
      "2    0\n",
      "3    0\n",
      "Name: y, dtype: int64\n",
      "updated weights: \n",
      "[1.00009391e+00 9.99787627e-01 2.71054481e-04]\n",
      "#############\n",
      "\n",
      "for epoch: 4\n",
      "predicted value: \n",
      "[0 1 1 1]\n",
      "error: \n",
      "0    0\n",
      "1    0\n",
      "2    0\n",
      "3    0\n",
      "Name: y, dtype: int64\n",
      "updated weights: \n",
      "[1.00009391e+00 9.99787627e-01 2.71054481e-04]\n",
      "#############\n",
      "\n",
      "for epoch: 5\n",
      "predicted value: \n",
      "[0 1 1 1]\n",
      "error: \n",
      "0    0\n",
      "1    0\n",
      "2    0\n",
      "3    0\n",
      "Name: y, dtype: int64\n",
      "updated weights: \n",
      "[1.00009391e+00 9.99787627e-01 2.71054481e-04]\n",
      "#############\n",
      "\n",
      "for epoch: 6\n",
      "predicted value: \n",
      "[0 1 1 1]\n",
      "error: \n",
      "0    0\n",
      "1    0\n",
      "2    0\n",
      "3    0\n",
      "Name: y, dtype: int64\n",
      "updated weights: \n",
      "[1.00009391e+00 9.99787627e-01 2.71054481e-04]\n",
      "#############\n",
      "\n",
      "for epoch: 7\n",
      "predicted value: \n",
      "[0 1 1 1]\n",
      "error: \n",
      "0    0\n",
      "1    0\n",
      "2    0\n",
      "3    0\n",
      "Name: y, dtype: int64\n",
      "updated weights: \n",
      "[1.00009391e+00 9.99787627e-01 2.71054481e-04]\n",
      "#############\n",
      "\n",
      "for epoch: 8\n",
      "predicted value: \n",
      "[0 1 1 1]\n",
      "error: \n",
      "0    0\n",
      "1    0\n",
      "2    0\n",
      "3    0\n",
      "Name: y, dtype: int64\n",
      "updated weights: \n",
      "[1.00009391e+00 9.99787627e-01 2.71054481e-04]\n",
      "#############\n",
      "\n",
      "for epoch: 9\n",
      "predicted value: \n",
      "[0 1 1 1]\n",
      "error: \n",
      "0    0\n",
      "1    0\n",
      "2    0\n",
      "3    0\n",
      "Name: y, dtype: int64\n",
      "updated weights: \n",
      "[1.00009391e+00 9.99787627e-01 2.71054481e-04]\n",
      "#############\n",
      "\n"
     ]
    }
   ],
   "source": [
    "model = Perceptron(eta = 0.5, epochs=10)\n",
    "model.fit(X,y)"
   ]
  },
  {
   "cell_type": "code",
   "execution_count": 20,
   "id": "1e26a215-45c0-41ea-8070-05c915e06f09",
   "metadata": {},
   "outputs": [
    {
     "data": {
      "text/plain": [
       "array([0, 1, 1, 1])"
      ]
     },
     "execution_count": 20,
     "metadata": {},
     "output_type": "execute_result"
    }
   ],
   "source": [
    "model.predict(X)"
   ]
  },
  {
   "cell_type": "code",
   "execution_count": 21,
   "id": "be40f737-c0c9-4925-8b46-d040bb4690cf",
   "metadata": {},
   "outputs": [
    {
     "data": {
      "text/plain": [
       "array([1.00009391e+00, 9.99787627e-01, 2.71054481e-04])"
      ]
     },
     "execution_count": 21,
     "metadata": {},
     "output_type": "execute_result"
    }
   ],
   "source": [
    "model.weights"
   ]
  },
  {
   "cell_type": "code",
   "execution_count": null,
   "id": "64582e70-e63b-4f6d-a0d1-1aa7b32ad9aa",
   "metadata": {},
   "outputs": [],
   "source": [
    "## Peceptron are anable to detect the XOR LogiC GATE cONCEPT\n"
   ]
  }
 ],
 "metadata": {
  "kernelspec": {
   "display_name": "Python 3 (ipykernel)",
   "language": "python",
   "name": "python3"
  },
  "language_info": {
   "codemirror_mode": {
    "name": "ipython",
    "version": 3
   },
   "file_extension": ".py",
   "mimetype": "text/x-python",
   "name": "python",
   "nbconvert_exporter": "python",
   "pygments_lexer": "ipython3",
   "version": "3.10.8"
  }
 },
 "nbformat": 4,
 "nbformat_minor": 5
}
