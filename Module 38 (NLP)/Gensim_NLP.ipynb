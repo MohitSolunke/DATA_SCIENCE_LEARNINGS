{
  "cells": [
    {
      "cell_type": "code",
      "execution_count": null,
      "metadata": {
        "colab": {
          "background_save": true,
          "base_uri": "https://localhost:8080/"
        },
        "id": "rlbuLPK4v9QJ",
        "outputId": "0be5aad8-c307-428d-8ede-4c50f9f55eb4"
      },
      "outputs": [
        {
          "name": "stdout",
          "output_type": "stream",
          "text": [
            "[==================================================] 100.0% 1662.8/1662.8MB downloaded\n"
          ]
        }
      ],
      "source": [
        "## Gensim to conduct word2vec\n",
        "import gensim.downloader as api\n",
        "#This is a huge model (~1.6 gb)and it will take some time to load\n",
        "\n",
        "wv = api.load('word2vec-google-news-300')"
      ]
    },
    {
      "cell_type": "markdown",
      "source": [
        "## ANN Application\n",
        "\n",
        "1) Number of i/p is fixed\n",
        "2) weights are diffrenet at each layer\n",
        "3) less parameter than RNN\n",
        "4)\n",
        "\n",
        "## RNN Application\n",
        "\n",
        "1) Number of i/p is not known exactly\n",
        "2) weights are same across all over the layer\n",
        "3) We use Sequential data in RNN\n",
        "4) No. of parameter are higher\n",
        "5)"
      ],
      "metadata": {
        "id": "KIxlaJoDD_mH"
      }
    },
    {
      "cell_type": "code",
      "execution_count": 1,
      "metadata": {
        "id": "c205Q8A6xs0d"
      },
      "outputs": [],
      "source": [
        "# Types of RNN\n",
        "# 1) One to One\n",
        "# 2) One to Many\n",
        "# 3) Many to One\n",
        "# 4) Many to Many"
      ]
    },
    {
      "cell_type": "code",
      "execution_count": null,
      "metadata": {
        "id": "iGC7YInq07ou"
      },
      "outputs": [],
      "source": [
        ""
      ]
    },
    {
      "cell_type": "code",
      "source": [],
      "metadata": {
        "id": "25YFmKYrtVYp"
      },
      "execution_count": null,
      "outputs": []
    }
  ],
  "metadata": {
    "colab": {
      "provenance": []
    },
    "kernelspec": {
      "display_name": "Python 3",
      "name": "python3"
    },
    "language_info": {
      "name": "python"
    }
  },
  "nbformat": 4,
  "nbformat_minor": 0
}