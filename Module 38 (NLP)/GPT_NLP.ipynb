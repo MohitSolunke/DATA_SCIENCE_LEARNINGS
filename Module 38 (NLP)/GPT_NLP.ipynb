{
  "nbformat": 4,
  "nbformat_minor": 0,
  "metadata": {
    "colab": {
      "provenance": [],
      "gpuType": "T4"
    },
    "kernelspec": {
      "name": "python3",
      "display_name": "Python 3"
    },
    "language_info": {
      "name": "python"
    },
    "accelerator": "GPU"
  },
  "cells": [
    {
      "cell_type": "markdown",
      "source": [
        "#Implementation of BERT"
      ],
      "metadata": {
        "id": "LuRR32OTYg6V"
      }
    },
    {
      "cell_type": "code",
      "execution_count": null,
      "metadata": {
        "collapsed": true,
        "id": "3ykZILpbXeQl"
      },
      "outputs": [],
      "source": [
        "## Transformer Installations\n",
        "!pip install transformers"
      ]
    },
    {
      "cell_type": "code",
      "source": [
        "from google.colab import drive\n",
        "drive.mount('/content/drive')"
      ],
      "metadata": {
        "colab": {
          "base_uri": "https://localhost:8080/"
        },
        "id": "8PVKT22pYWNF",
        "outputId": "6c08c554-3c0d-42f0-9844-bf7d1ce9c217"
      },
      "execution_count": null,
      "outputs": [
        {
          "output_type": "stream",
          "name": "stdout",
          "text": [
            "Mounted at /content/drive\n"
          ]
        }
      ]
    },
    {
      "cell_type": "code",
      "source": [
        "import os\n",
        "main_dir = \"/content/drive/MyDrive/Colab Notebooks\"\n",
        "os.chdir(main_dir)\n",
        "os.listdir()"
      ],
      "metadata": {
        "colab": {
          "base_uri": "https://localhost:8080/"
        },
        "id": "2EAyQhmuYrqr",
        "outputId": "31af83c0-edfe-41f8-b1b7-6359a1a13ef6"
      },
      "execution_count": null,
      "outputs": [
        {
          "output_type": "execute_result",
          "data": {
            "text/plain": [
              "['SpamClassifier-master',\n",
              " 'us-accident-anaylsis.ipynb',\n",
              " 'my_keras_model.h5',\n",
              " 'Solving Regression Problem Using ANN.ipynb',\n",
              " 'Ent to End Project of NLP.ipynb',\n",
              " 'Practical Implementation of Word Embeddings.ipynb',\n",
              " '.ipynb',\n",
              " 'Gensim NLP.ipynb',\n",
              " 'Sentiment analysis of IMDB Dataset .ipynb',\n",
              " 'Bi RNN.ipynb',\n",
              " 'Untitled',\n",
              " 'LSTM.ipynb',\n",
              " 'Fake News Classifiaction Using LSTM Model.ipynb',\n",
              " 'Hybrid Search RAG with Langchain .ipynb',\n",
              " 'Implementation_Sequence_2_Sequence.ipynb',\n",
              " 'Implementation of Transformer .ipynb',\n",
              " 'BERT.ipynb',\n",
              " 'ChatbotwithLangraph.ipynb',\n",
              " 'train.json',\n",
              " 'test.json',\n",
              " 'cache_dir',\n",
              " 'outputs',\n",
              " 'runs',\n",
              " 'GPT_NLP.ipynb']"
            ]
          },
          "metadata": {},
          "execution_count": 3
        }
      ]
    },
    {
      "cell_type": "code",
      "source": [
        "import json\n",
        "with open (r\"train.json\", \"r\") as f:\n",
        "  train = json.load(f)"
      ],
      "metadata": {
        "id": "vHPHCeNyZbk8"
      },
      "execution_count": null,
      "outputs": []
    },
    {
      "cell_type": "code",
      "source": [
        "train"
      ],
      "metadata": {
        "id": "a6o-qL10agtC"
      },
      "execution_count": null,
      "outputs": []
    },
    {
      "cell_type": "code",
      "source": [
        "import json\n",
        "with open (r\"test.json\", \"r\") as f:\n",
        "  test = json.load(f)"
      ],
      "metadata": {
        "id": "jMWsAuOqcpdM"
      },
      "execution_count": null,
      "outputs": []
    },
    {
      "cell_type": "code",
      "source": [
        "test"
      ],
      "metadata": {
        "id": "PqDov_ikdQc3"
      },
      "execution_count": null,
      "outputs": []
    },
    {
      "cell_type": "code",
      "source": [
        "import logging\n",
        "!pip install simpletransformers\n",
        "from simpletransformers.question_answering import QuestionAnsweringModel, QuestionAnsweringArgs"
      ],
      "metadata": {
        "collapsed": true,
        "id": "iSAokrTkeSi1"
      },
      "execution_count": null,
      "outputs": []
    },
    {
      "cell_type": "code",
      "source": [
        "model_type = \"bert\"\n",
        "model_name = \"bert-base-uncased\"\n",
        "\n",
        "# roberta\n",
        "# roberta-base\n",
        "\n",
        "# distilbert\n",
        "# distilbert-base-uncased\n"
      ],
      "metadata": {
        "id": "TFd_HbUiexfU"
      },
      "execution_count": null,
      "outputs": []
    },
    {
      "cell_type": "code",
      "source": [
        "# Configure the model\n",
        "model_args = QuestionAnsweringArgs()\n",
        "model_args.train_batch_size = 16\n",
        "model_args.evaluate_during_training = True\n",
        "model_args.n_best_size=3\n",
        "model_args.num_train_epochs=5"
      ],
      "metadata": {
        "id": "uhyYIyyAfnXB"
      },
      "execution_count": null,
      "outputs": []
    },
    {
      "cell_type": "code",
      "source": [
        "## Advanced Methodology\n",
        "train_args = {\n",
        "    \"reprocess_input_data\": True,\n",
        "    \"overwrite_output_dir\": True,\n",
        "    \"use_cached_eval_features\": True,\n",
        "    \"output_dir\": f\"outputs/{model_type}\",\n",
        "    \"best_model_dir\": f\"outputs/{model_type}/best_model\",\n",
        "    \"evaluate_during_training\": True,\n",
        "    \"max_seq_length\": 128,\n",
        "    \"num_train_epochs\":5,\n",
        "    \"evaluate_during_training_steps\": 1000,\n",
        "    \"wandb_project\": \"Question Answer Application\",\n",
        "    \"wandb_kwargs\": {\"name\": model_name},\n",
        "    \"save_model_every_epoch\": False,\n",
        "    \"save_eval_checkpoints\": False,\n",
        "    \"n_best_size\":3,\n",
        "    # \"use\"_early_stoping\": True,\n",
        "    # \"early_stopping_metric\": \"mcc\",\n",
        "    # \"n_gpu\": 2,\n",
        "    # \"manual_seed\": 4,\n",
        "    # \"use_multiprocessing\": False,\n",
        "     \"train_batch_size\": 128,\n",
        "     \"eval_batch_size\": 64,\n",
        "    # \"config\": {\n",
        "    #     \"output_hidden_states\": True\n",
        "    # }\n",
        "}"
      ],
      "metadata": {
        "id": "Yn8ETdhFgaxR"
      },
      "execution_count": null,
      "outputs": []
    },
    {
      "cell_type": "code",
      "source": [
        "# Downloading the Pre-trained Model\n",
        "model = QuestionAnsweringModel(model_type, model_name, args=model_args, use_cuda=False)"
      ],
      "metadata": {
        "id": "PQQa278sgLN6"
      },
      "execution_count": null,
      "outputs": []
    },
    {
      "cell_type": "code",
      "source": [
        "model.train_model(train, eval_data=test)"
      ],
      "metadata": {
        "id": "W5uZ-opRhFfQ"
      },
      "execution_count": null,
      "outputs": []
    },
    {
      "cell_type": "code",
      "source": [
        "  eval_data"
      ],
      "metadata": {
        "id": "-77S0Weghsl1"
      },
      "execution_count": null,
      "outputs": []
    },
    {
      "cell_type": "code",
      "source": [],
      "metadata": {
        "id": "DS4vTub4qa6m"
      },
      "execution_count": null,
      "outputs": []
    }
  ]
}