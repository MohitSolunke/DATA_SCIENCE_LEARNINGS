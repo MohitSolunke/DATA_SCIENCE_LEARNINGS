{
  "nbformat": 4,
  "nbformat_minor": 0,
  "metadata": {
    "colab": {
      "provenance": []
    },
    "kernelspec": {
      "name": "python3",
      "display_name": "Python 3"
    },
    "language_info": {
      "name": "python"
    }
  },
  "cells": [
    {
      "cell_type": "code",
      "execution_count": 34,
      "metadata": {
        "colab": {
          "base_uri": "https://localhost:8080/"
        },
        "id": "FJZT5lLzjykh",
        "outputId": "6acbcecf-2f5a-4b87-cc22-a146e12f63ba"
      },
      "outputs": [
        {
          "output_type": "stream",
          "name": "stdout",
          "text": [
            "Requirement already satisfied: nltk in /usr/local/lib/python3.10/dist-packages (3.8.1)\n",
            "Requirement already satisfied: click in /usr/local/lib/python3.10/dist-packages (from nltk) (8.1.7)\n",
            "Requirement already satisfied: joblib in /usr/local/lib/python3.10/dist-packages (from nltk) (1.4.2)\n",
            "Requirement already satisfied: regex>=2021.8.3 in /usr/local/lib/python3.10/dist-packages (from nltk) (2024.5.15)\n",
            "Requirement already satisfied: tqdm in /usr/local/lib/python3.10/dist-packages (from nltk) (4.66.4)\n"
          ]
        }
      ],
      "source": [
        "!pip install nltk # NLP Toolkit"
      ]
    },
    {
      "cell_type": "code",
      "source": [
        "import nltk\n",
        "nltk.download('punkt') # This will required data for tokenization"
      ],
      "metadata": {
        "colab": {
          "base_uri": "https://localhost:8080/"
        },
        "id": "9CZt18_zj9A1",
        "outputId": "7d7a3b27-ce98-4821-8164-fd7e441850ff"
      },
      "execution_count": 35,
      "outputs": [
        {
          "output_type": "stream",
          "name": "stderr",
          "text": [
            "[nltk_data] Downloading package punkt to /root/nltk_data...\n",
            "[nltk_data]   Package punkt is already up-to-date!\n"
          ]
        },
        {
          "output_type": "execute_result",
          "data": {
            "text/plain": [
              "True"
            ]
          },
          "metadata": {},
          "execution_count": 35
        }
      ]
    },
    {
      "cell_type": "code",
      "source": [
        "corpus = \"\"\"Hello, Welcome to the world of NLP.\n",
        "It is a very intresting world ! Amazing to be here.\n",
        "\"\"\"\n",
        "\n",
        "#CORPUS == paragraph"
      ],
      "metadata": {
        "id": "IwPeT2nAkZYP"
      },
      "execution_count": 36,
      "outputs": []
    },
    {
      "cell_type": "code",
      "source": [
        "print(corpus)"
      ],
      "metadata": {
        "colab": {
          "base_uri": "https://localhost:8080/"
        },
        "id": "qYZA9IX6k7mt",
        "outputId": "f763d24c-ec6b-4f9d-cd02-004dd33ab789"
      },
      "execution_count": 37,
      "outputs": [
        {
          "output_type": "stream",
          "name": "stdout",
          "text": [
            "Hello, Welcome to the world of NLP.\n",
            "It is a very intresting world ! Amazing to be here.\n",
            "\n"
          ]
        }
      ]
    },
    {
      "cell_type": "code",
      "source": [
        "#Sentence Tokenization\n",
        "#Paragraph to Sentence\n",
        "\n",
        "from nltk.tokenize import sent_tokenize\n",
        "doccument = (sent_tokenize(corpus))"
      ],
      "metadata": {
        "id": "tdL0T4qak9Sv"
      },
      "execution_count": 38,
      "outputs": []
    },
    {
      "cell_type": "code",
      "source": [
        "type(doccument)"
      ],
      "metadata": {
        "colab": {
          "base_uri": "https://localhost:8080/"
        },
        "id": "W7TK55rXlstF",
        "outputId": "028dd3f2-a17f-4fd2-81b2-6989df0ac8c0"
      },
      "execution_count": 39,
      "outputs": [
        {
          "output_type": "execute_result",
          "data": {
            "text/plain": [
              "list"
            ]
          },
          "metadata": {},
          "execution_count": 39
        }
      ]
    },
    {
      "cell_type": "code",
      "source": [
        "for sentence in doccument:\n",
        "  print(sentence)"
      ],
      "metadata": {
        "colab": {
          "base_uri": "https://localhost:8080/"
        },
        "id": "ql_C3FKglZ4m",
        "outputId": "cc47bb57-7d1a-47ca-bb63-698fa460fcc3"
      },
      "execution_count": 40,
      "outputs": [
        {
          "output_type": "stream",
          "name": "stdout",
          "text": [
            "Hello, Welcome to the world of NLP.\n",
            "It is a very intresting world !\n",
            "Amazing to be here.\n"
          ]
        }
      ]
    },
    {
      "cell_type": "code",
      "source": [
        "## Word Tokenization\n",
        "#Sentence to Word\n",
        "\n",
        "from nltk.tokenize import word_tokenize\n",
        "for sentence in doccument:\n",
        "  print(word_tokenize(sentence))\n"
      ],
      "metadata": {
        "colab": {
          "base_uri": "https://localhost:8080/"
        },
        "id": "MrwymoN_mDPl",
        "outputId": "fdb0cf9e-208b-4463-855a-336f16ce3198"
      },
      "execution_count": 41,
      "outputs": [
        {
          "output_type": "stream",
          "name": "stdout",
          "text": [
            "['Hello', ',', 'Welcome', 'to', 'the', 'world', 'of', 'NLP', '.']\n",
            "['It', 'is', 'a', 'very', 'intresting', 'world', '!']\n",
            "['Amazing', 'to', 'be', 'here', '.']\n"
          ]
        }
      ]
    },
    {
      "cell_type": "code",
      "source": [
        "from nltk.tokenize import wordpunct_tokenize\n",
        "word = wordpunct_tokenize(corpus)"
      ],
      "metadata": {
        "id": "fOz0x8FGmP89"
      },
      "execution_count": 42,
      "outputs": []
    },
    {
      "cell_type": "code",
      "source": [
        "type(word)"
      ],
      "metadata": {
        "colab": {
          "base_uri": "https://localhost:8080/"
        },
        "id": "56V_1kyQmxBW",
        "outputId": "74f695ff-8f63-45ea-eb7b-8243c8ab8625"
      },
      "execution_count": 43,
      "outputs": [
        {
          "output_type": "execute_result",
          "data": {
            "text/plain": [
              "list"
            ]
          },
          "metadata": {},
          "execution_count": 43
        }
      ]
    },
    {
      "cell_type": "code",
      "source": [
        "word"
      ],
      "metadata": {
        "colab": {
          "base_uri": "https://localhost:8080/"
        },
        "id": "KwPiYPbEnJ-W",
        "outputId": "2703aa10-8e89-48bf-8103-54beb69cb269"
      },
      "execution_count": 44,
      "outputs": [
        {
          "output_type": "execute_result",
          "data": {
            "text/plain": [
              "['Hello',\n",
              " ',',\n",
              " 'Welcome',\n",
              " 'to',\n",
              " 'the',\n",
              " 'world',\n",
              " 'of',\n",
              " 'NLP',\n",
              " '.',\n",
              " 'It',\n",
              " 'is',\n",
              " 'a',\n",
              " 'very',\n",
              " 'intresting',\n",
              " 'world',\n",
              " '!',\n",
              " 'Amazing',\n",
              " 'to',\n",
              " 'be',\n",
              " 'here',\n",
              " '.']"
            ]
          },
          "metadata": {},
          "execution_count": 44
        }
      ]
    },
    {
      "cell_type": "code",
      "source": [
        "## StopWords : - I am a boy and I love to eat chicken =>  boy love eat chicken (Taking the only imp word )\n",
        "# why we remove stopwords ?\n",
        "# => Esy Computation, faster processing, reduntant\n"
      ],
      "metadata": {
        "id": "_-JZKoe4nKz0"
      },
      "execution_count": 45,
      "outputs": []
    },
    {
      "cell_type": "code",
      "source": [
        "## Stremming => Process of converting infected word into  base/ root word\n",
        "# e.g  Loving and Loveable both of these word root word is => love\n",
        "## In case of streaming base word may be not may be have the some meaning but in case of lemmatization base word definately have a meaning"
      ],
      "metadata": {
        "id": "F7dEvXHUoCZB"
      },
      "execution_count": 46,
      "outputs": []
    },
    {
      "cell_type": "code",
      "source": [
        "# Lemmatization => Convert the word to base word with some meaning to it.\n",
        "## In case of streaming base word may be not may be have the some meaning but in case of lemmatization base word definately have a meaning"
      ],
      "metadata": {
        "id": "4NZrjFm1obuV"
      },
      "execution_count": 47,
      "outputs": []
    },
    {
      "cell_type": "code",
      "source": [
        "#Difference between Streaming and Lemmatization\n",
        "#Streaming                       lemmatization\n",
        "\n",
        "#Convert base word               convert into meaningful base word\n",
        "# faster Process                   slower in process wrt streaming\n",
        "# applications                     Applications\n",
        "#  Sentiment Analysis                 a) ChatBot /Q&A\n",
        "#  Reviews"
      ],
      "metadata": {
        "id": "n52yDg5to7Lv"
      },
      "execution_count": 48,
      "outputs": []
    },
    {
      "cell_type": "code",
      "source": [
        "paragraph = \"\"\"Sure, here's an extended version of the paragraph:\n",
        "\n",
        "---\n",
        "\n",
        "Machine learning is a branch of artificial intelligence that focuses on the development of algorithms that allow computers to learn from and make predictions or decisions based on data. It is widely used in various fields such as finance, healthcare, and marketing to analyze large datasets and uncover patterns that would be difficult for humans to detect. There are different types of machine learning techniques, including supervised learning, unsupervised learning, and reinforcement learning, each with its own strengths and applications. Supervised learning involves training a model on labeled data, where the input comes with the correct output, making it suitable for tasks like classification and regression. Unsupervised learning, on the other hand, deals with unlabeled data and is used for clustering and association tasks, where the goal is to find hidden patterns or intrinsic structures in the data. Reinforcement learning is a type of machine learning where an agent learns to make decisions by performing certain actions and receiving rewards or penalties.\n",
        "\n",
        "In recent years, the advancements in machine learning have been driven by the availability of large amounts of data and powerful computational resources. The rise of big data and cloud computing has provided unprecedented opportunities for training complex models on vast datasets. Deep learning, a subset of machine learning, has gained significant attention due to its ability to model high-level abstractions in data through the use of neural networks with many layers. This has led to breakthroughs in various domains, including computer vision, natural language processing, and speech recognition.\n",
        "\n",
        "Moreover, the integration of machine learning with other emerging technologies, such as the Internet of Things (IoT) and blockchain, has opened up new possibilities for innovation. In the healthcare sector, machine learning is being used to predict disease outbreaks, personalize treatment plans, and accelerate drug discovery. In finance, it is employed for fraud detection, algorithmic trading, and risk management. Marketing professionals leverage machine learning to gain insights into customer behavior, optimize campaigns, and enhance customer engagement.\n",
        "\n",
        "As technology continues to advance, the importance of machine learning in driving innovation and improving efficiency is becoming increasingly evident. The ethical implications of machine learning are also gaining attention, as issues such as bias, fairness, and transparency are crucial to ensure that the benefits of this technology are realized without unintended consequences. Researchers and practitioners are working towards developing robust and explainable AI systems that can be trusted and adopted widely.\n",
        "\n",
        "In conclusion, machine learning is a transformative technology that is reshaping industries and creating new opportunities. Its ability to analyze and interpret vast amounts of data is revolutionizing the way decisions are made and actions are taken. As we move forward, the collaboration between academia, industry, and policymakers will be essential to harness the full potential of machine learning while addressing the challenges that come with it.\n",
        "\n",
        "---\n",
        "\n",
        "This extended paragraph provides a comprehensive overview of machine learning, its techniques, applications, and implications, making it suitable for more in-depth NLP tasks.\"\"\""
      ],
      "metadata": {
        "id": "N0JsNha1qXS-"
      },
      "execution_count": 52,
      "outputs": []
    },
    {
      "cell_type": "code",
      "source": [
        "from nltk.tokenize import sent_tokenize\n",
        "\n",
        "sentences = sent_tokenize(paragraph)\n",
        "print(sentences)"
      ],
      "metadata": {
        "colab": {
          "base_uri": "https://localhost:8080/"
        },
        "id": "ntGm-Ki7r_kO",
        "outputId": "9339dce4-4ca1-4bb3-9f5b-86a5fc298ccd"
      },
      "execution_count": 53,
      "outputs": [
        {
          "output_type": "stream",
          "name": "stdout",
          "text": [
            "[\"Sure, here's an extended version of the paragraph:\\n\\n---\\n\\nMachine learning is a branch of artificial intelligence that focuses on the development of algorithms that allow computers to learn from and make predictions or decisions based on data.\", 'It is widely used in various fields such as finance, healthcare, and marketing to analyze large datasets and uncover patterns that would be difficult for humans to detect.', 'There are different types of machine learning techniques, including supervised learning, unsupervised learning, and reinforcement learning, each with its own strengths and applications.', 'Supervised learning involves training a model on labeled data, where the input comes with the correct output, making it suitable for tasks like classification and regression.', 'Unsupervised learning, on the other hand, deals with unlabeled data and is used for clustering and association tasks, where the goal is to find hidden patterns or intrinsic structures in the data.', 'Reinforcement learning is a type of machine learning where an agent learns to make decisions by performing certain actions and receiving rewards or penalties.', 'In recent years, the advancements in machine learning have been driven by the availability of large amounts of data and powerful computational resources.', 'The rise of big data and cloud computing has provided unprecedented opportunities for training complex models on vast datasets.', 'Deep learning, a subset of machine learning, has gained significant attention due to its ability to model high-level abstractions in data through the use of neural networks with many layers.', 'This has led to breakthroughs in various domains, including computer vision, natural language processing, and speech recognition.', 'Moreover, the integration of machine learning with other emerging technologies, such as the Internet of Things (IoT) and blockchain, has opened up new possibilities for innovation.', 'In the healthcare sector, machine learning is being used to predict disease outbreaks, personalize treatment plans, and accelerate drug discovery.', 'In finance, it is employed for fraud detection, algorithmic trading, and risk management.', 'Marketing professionals leverage machine learning to gain insights into customer behavior, optimize campaigns, and enhance customer engagement.', 'As technology continues to advance, the importance of machine learning in driving innovation and improving efficiency is becoming increasingly evident.', 'The ethical implications of machine learning are also gaining attention, as issues such as bias, fairness, and transparency are crucial to ensure that the benefits of this technology are realized without unintended consequences.', 'Researchers and practitioners are working towards developing robust and explainable AI systems that can be trusted and adopted widely.', 'In conclusion, machine learning is a transformative technology that is reshaping industries and creating new opportunities.', 'Its ability to analyze and interpret vast amounts of data is revolutionizing the way decisions are made and actions are taken.', 'As we move forward, the collaboration between academia, industry, and policymakers will be essential to harness the full potential of machine learning while addressing the challenges that come with it.', '---\\n\\nThis extended paragraph provides a comprehensive overview of machine learning, its techniques, applications, and implications, making it suitable for more in-depth NLP tasks.']\n"
          ]
        }
      ]
    },
    {
      "cell_type": "code",
      "source": [
        "len(sentences)"
      ],
      "metadata": {
        "colab": {
          "base_uri": "https://localhost:8080/"
        },
        "id": "4zbtYSZusfJs",
        "outputId": "5fdbbe3d-1038-4940-9068-c52aefba58ec"
      },
      "execution_count": 54,
      "outputs": [
        {
          "output_type": "execute_result",
          "data": {
            "text/plain": [
              "21"
            ]
          },
          "metadata": {},
          "execution_count": 54
        }
      ]
    },
    {
      "cell_type": "code",
      "source": [
        "nltk.download('stopwords')"
      ],
      "metadata": {
        "colab": {
          "base_uri": "https://localhost:8080/"
        },
        "id": "-GiVD5D0sj1e",
        "outputId": "d0cd3c58-89f3-4466-b1ef-128a8dec7b1e"
      },
      "execution_count": 55,
      "outputs": [
        {
          "output_type": "stream",
          "name": "stderr",
          "text": [
            "[nltk_data] Downloading package stopwords to /root/nltk_data...\n",
            "[nltk_data]   Unzipping corpora/stopwords.zip.\n"
          ]
        },
        {
          "output_type": "execute_result",
          "data": {
            "text/plain": [
              "True"
            ]
          },
          "metadata": {},
          "execution_count": 55
        }
      ]
    },
    {
      "cell_type": "code",
      "source": [
        "nltk.corpus.stopwords.words('english')"
      ],
      "metadata": {
        "colab": {
          "base_uri": "https://localhost:8080/"
        },
        "id": "vzElQEhwtDLR",
        "outputId": "9b63e392-fa88-447a-c23d-7184de642738"
      },
      "execution_count": 61,
      "outputs": [
        {
          "output_type": "execute_result",
          "data": {
            "text/plain": [
              "['i',\n",
              " 'me',\n",
              " 'my',\n",
              " 'myself',\n",
              " 'we',\n",
              " 'our',\n",
              " 'ours',\n",
              " 'ourselves',\n",
              " 'you',\n",
              " \"you're\",\n",
              " \"you've\",\n",
              " \"you'll\",\n",
              " \"you'd\",\n",
              " 'your',\n",
              " 'yours',\n",
              " 'yourself',\n",
              " 'yourselves',\n",
              " 'he',\n",
              " 'him',\n",
              " 'his',\n",
              " 'himself',\n",
              " 'she',\n",
              " \"she's\",\n",
              " 'her',\n",
              " 'hers',\n",
              " 'herself',\n",
              " 'it',\n",
              " \"it's\",\n",
              " 'its',\n",
              " 'itself',\n",
              " 'they',\n",
              " 'them',\n",
              " 'their',\n",
              " 'theirs',\n",
              " 'themselves',\n",
              " 'what',\n",
              " 'which',\n",
              " 'who',\n",
              " 'whom',\n",
              " 'this',\n",
              " 'that',\n",
              " \"that'll\",\n",
              " 'these',\n",
              " 'those',\n",
              " 'am',\n",
              " 'is',\n",
              " 'are',\n",
              " 'was',\n",
              " 'were',\n",
              " 'be',\n",
              " 'been',\n",
              " 'being',\n",
              " 'have',\n",
              " 'has',\n",
              " 'had',\n",
              " 'having',\n",
              " 'do',\n",
              " 'does',\n",
              " 'did',\n",
              " 'doing',\n",
              " 'a',\n",
              " 'an',\n",
              " 'the',\n",
              " 'and',\n",
              " 'but',\n",
              " 'if',\n",
              " 'or',\n",
              " 'because',\n",
              " 'as',\n",
              " 'until',\n",
              " 'while',\n",
              " 'of',\n",
              " 'at',\n",
              " 'by',\n",
              " 'for',\n",
              " 'with',\n",
              " 'about',\n",
              " 'against',\n",
              " 'between',\n",
              " 'into',\n",
              " 'through',\n",
              " 'during',\n",
              " 'before',\n",
              " 'after',\n",
              " 'above',\n",
              " 'below',\n",
              " 'to',\n",
              " 'from',\n",
              " 'up',\n",
              " 'down',\n",
              " 'in',\n",
              " 'out',\n",
              " 'on',\n",
              " 'off',\n",
              " 'over',\n",
              " 'under',\n",
              " 'again',\n",
              " 'further',\n",
              " 'then',\n",
              " 'once',\n",
              " 'here',\n",
              " 'there',\n",
              " 'when',\n",
              " 'where',\n",
              " 'why',\n",
              " 'how',\n",
              " 'all',\n",
              " 'any',\n",
              " 'both',\n",
              " 'each',\n",
              " 'few',\n",
              " 'more',\n",
              " 'most',\n",
              " 'other',\n",
              " 'some',\n",
              " 'such',\n",
              " 'no',\n",
              " 'nor',\n",
              " 'not',\n",
              " 'only',\n",
              " 'own',\n",
              " 'same',\n",
              " 'so',\n",
              " 'than',\n",
              " 'too',\n",
              " 'very',\n",
              " 's',\n",
              " 't',\n",
              " 'can',\n",
              " 'will',\n",
              " 'just',\n",
              " 'don',\n",
              " \"don't\",\n",
              " 'should',\n",
              " \"should've\",\n",
              " 'now',\n",
              " 'd',\n",
              " 'll',\n",
              " 'm',\n",
              " 'o',\n",
              " 're',\n",
              " 've',\n",
              " 'y',\n",
              " 'ain',\n",
              " 'aren',\n",
              " \"aren't\",\n",
              " 'couldn',\n",
              " \"couldn't\",\n",
              " 'didn',\n",
              " \"didn't\",\n",
              " 'doesn',\n",
              " \"doesn't\",\n",
              " 'hadn',\n",
              " \"hadn't\",\n",
              " 'hasn',\n",
              " \"hasn't\",\n",
              " 'haven',\n",
              " \"haven't\",\n",
              " 'isn',\n",
              " \"isn't\",\n",
              " 'ma',\n",
              " 'mightn',\n",
              " \"mightn't\",\n",
              " 'mustn',\n",
              " \"mustn't\",\n",
              " 'needn',\n",
              " \"needn't\",\n",
              " 'shan',\n",
              " \"shan't\",\n",
              " 'shouldn',\n",
              " \"shouldn't\",\n",
              " 'wasn',\n",
              " \"wasn't\",\n",
              " 'weren',\n",
              " \"weren't\",\n",
              " 'won',\n",
              " \"won't\",\n",
              " 'wouldn',\n",
              " \"wouldn't\"]"
            ]
          },
          "metadata": {},
          "execution_count": 61
        }
      ]
    },
    {
      "cell_type": "code",
      "source": [
        "## Streaming\n",
        "\n",
        "from nltk.stem import PorterStemmer\n"
      ],
      "metadata": {
        "id": "7XvUdeO6tAN5"
      },
      "execution_count": 62,
      "outputs": []
    },
    {
      "cell_type": "code",
      "source": [
        "sentences = sent_tokenize(paragraph)\n",
        "len(sentences)"
      ],
      "metadata": {
        "colab": {
          "base_uri": "https://localhost:8080/"
        },
        "id": "Fh_nT4catCR1",
        "outputId": "7a9d9aff-20be-4c2b-d8e0-bbca5e7dc3d3"
      },
      "execution_count": 66,
      "outputs": [
        {
          "output_type": "execute_result",
          "data": {
            "text/plain": [
              "21"
            ]
          },
          "metadata": {},
          "execution_count": 66
        }
      ]
    },
    {
      "cell_type": "code",
      "source": [
        "stemmer = PorterStemmer()\n",
        "for i in range(len(sentences)):\n",
        "  words = word_tokenize(sentences[i])\n",
        "  words = [stemmer.stem(word) for word in words if word not in set(nltk.corpus.stopwords.words('english'))]\n",
        "  sentences[i] = ' '.join(words)\n",
        "\n",
        "  print (sentences)\n",
        ""
      ],
      "metadata": {
        "colab": {
          "base_uri": "https://localhost:8080/"
        },
        "id": "ZYRAlt8ptvp1",
        "outputId": "4a75c8fe-2c7d-4ea2-a92a-6aac4facfb3c"
      },
      "execution_count": 70,
      "outputs": [
        {
          "output_type": "stream",
          "name": "stdout",
          "text": [
            "[\"sure , 's extend version paragraph : -- - machin learn branch artifici intellig focu develop algorithm allow comput learn make predict deci base data .\", 'it wide use variou field financ , healthcar , market analyz larg dataset uncov pattern would difficult human detect .', 'there differ type machin learn techniqu , includ supervis learn , unsupervis learn , reinforc learn , strength applic .', 'supervis learn involv train model label data , input come correct output , make suitabl task like classif regress .', 'unsupervis learn , hand , deal unlabel data use cluster associ task , goal find hidden pattern intrins structur data .', 'reinforc learn type machin learn agent learn make decis perform certain action receiv reward penalti .', 'in recent year , advanc machin learn driven avail larg amount data power comput resourc .', 'the rise big data cloud comput provid unpreced opportun train complex model vast dataset .', 'deep learn , subset machin learn , gain signific attent due abil model high-level abstract data use neural network mani layer .', 'thi led breakthrough variou domain , includ comput vision , natur languag process , speech recognit .', 'moreov , integr machin learn emerg technolog , internet thing ( iot ) blockchain , open new possibl innov .', 'in healthcar sector , machin learn use predict diseas outbreak , person treatment plan , acceler drug discoveri .', 'in financ , employ fraud detect , algorithm trade , risk manag .', 'market profession leverag machin learn gain insight custom behavior , optim campaign , enhanc custom engag .', 'as technolog continu advanc , import machin learn drive innov improv effici becom increasingli evid .', 'the ethic implic machin learn also gain attent , issu bia , fair , transpar crucial ensur benefit technolog realiz without unintend consequ .', 'research practition work toward develop robust explain ai system trust adopt wide .', 'in conclus , machin learn transform technolog reshap industri creat new opportun .', 'it abil analyz interpret vast amount data revolution way decis made action taken .', 'as move forward , collabor academia , industri , policymak essenti har full potenti machin learn address challeng come .', '-- - thi extend paragraph provid comprehens overview machin learn , techniqu , applic , implic , make suitabl in-depth nlp task .']\n",
            "[\"sure , 's extend version paragraph : -- - machin learn branch artifici intellig focu develop algorithm allow comput learn make predict deci base data .\", 'wide use variou field financ , healthcar , market analyz larg dataset uncov pattern would difficult human detect .', 'there differ type machin learn techniqu , includ supervis learn , unsupervis learn , reinforc learn , strength applic .', 'supervis learn involv train model label data , input come correct output , make suitabl task like classif regress .', 'unsupervis learn , hand , deal unlabel data use cluster associ task , goal find hidden pattern intrins structur data .', 'reinforc learn type machin learn agent learn make decis perform certain action receiv reward penalti .', 'in recent year , advanc machin learn driven avail larg amount data power comput resourc .', 'the rise big data cloud comput provid unpreced opportun train complex model vast dataset .', 'deep learn , subset machin learn , gain signific attent due abil model high-level abstract data use neural network mani layer .', 'thi led breakthrough variou domain , includ comput vision , natur languag process , speech recognit .', 'moreov , integr machin learn emerg technolog , internet thing ( iot ) blockchain , open new possibl innov .', 'in healthcar sector , machin learn use predict diseas outbreak , person treatment plan , acceler drug discoveri .', 'in financ , employ fraud detect , algorithm trade , risk manag .', 'market profession leverag machin learn gain insight custom behavior , optim campaign , enhanc custom engag .', 'as technolog continu advanc , import machin learn drive innov improv effici becom increasingli evid .', 'the ethic implic machin learn also gain attent , issu bia , fair , transpar crucial ensur benefit technolog realiz without unintend consequ .', 'research practition work toward develop robust explain ai system trust adopt wide .', 'in conclus , machin learn transform technolog reshap industri creat new opportun .', 'it abil analyz interpret vast amount data revolution way decis made action taken .', 'as move forward , collabor academia , industri , policymak essenti har full potenti machin learn address challeng come .', '-- - thi extend paragraph provid comprehens overview machin learn , techniqu , applic , implic , make suitabl in-depth nlp task .']\n",
            "[\"sure , 's extend version paragraph : -- - machin learn branch artifici intellig focu develop algorithm allow comput learn make predict deci base data .\", 'wide use variou field financ , healthcar , market analyz larg dataset uncov pattern would difficult human detect .', 'differ type machin learn techniqu , includ supervi learn , unsupervi learn , reinforc learn , strength applic .', 'supervis learn involv train model label data , input come correct output , make suitabl task like classif regress .', 'unsupervis learn , hand , deal unlabel data use cluster associ task , goal find hidden pattern intrins structur data .', 'reinforc learn type machin learn agent learn make decis perform certain action receiv reward penalti .', 'in recent year , advanc machin learn driven avail larg amount data power comput resourc .', 'the rise big data cloud comput provid unpreced opportun train complex model vast dataset .', 'deep learn , subset machin learn , gain signific attent due abil model high-level abstract data use neural network mani layer .', 'thi led breakthrough variou domain , includ comput vision , natur languag process , speech recognit .', 'moreov , integr machin learn emerg technolog , internet thing ( iot ) blockchain , open new possibl innov .', 'in healthcar sector , machin learn use predict diseas outbreak , person treatment plan , acceler drug discoveri .', 'in financ , employ fraud detect , algorithm trade , risk manag .', 'market profession leverag machin learn gain insight custom behavior , optim campaign , enhanc custom engag .', 'as technolog continu advanc , import machin learn drive innov improv effici becom increasingli evid .', 'the ethic implic machin learn also gain attent , issu bia , fair , transpar crucial ensur benefit technolog realiz without unintend consequ .', 'research practition work toward develop robust explain ai system trust adopt wide .', 'in conclus , machin learn transform technolog reshap industri creat new opportun .', 'it abil analyz interpret vast amount data revolution way decis made action taken .', 'as move forward , collabor academia , industri , policymak essenti har full potenti machin learn address challeng come .', '-- - thi extend paragraph provid comprehens overview machin learn , techniqu , applic , implic , make suitabl in-depth nlp task .']\n",
            "[\"sure , 's extend version paragraph : -- - machin learn branch artifici intellig focu develop algorithm allow comput learn make predict deci base data .\", 'wide use variou field financ , healthcar , market analyz larg dataset uncov pattern would difficult human detect .', 'differ type machin learn techniqu , includ supervi learn , unsupervi learn , reinforc learn , strength applic .', 'supervi learn involv train model label data , input come correct output , make suitabl task like classif regress .', 'unsupervis learn , hand , deal unlabel data use cluster associ task , goal find hidden pattern intrins structur data .', 'reinforc learn type machin learn agent learn make decis perform certain action receiv reward penalti .', 'in recent year , advanc machin learn driven avail larg amount data power comput resourc .', 'the rise big data cloud comput provid unpreced opportun train complex model vast dataset .', 'deep learn , subset machin learn , gain signific attent due abil model high-level abstract data use neural network mani layer .', 'thi led breakthrough variou domain , includ comput vision , natur languag process , speech recognit .', 'moreov , integr machin learn emerg technolog , internet thing ( iot ) blockchain , open new possibl innov .', 'in healthcar sector , machin learn use predict diseas outbreak , person treatment plan , acceler drug discoveri .', 'in financ , employ fraud detect , algorithm trade , risk manag .', 'market profession leverag machin learn gain insight custom behavior , optim campaign , enhanc custom engag .', 'as technolog continu advanc , import machin learn drive innov improv effici becom increasingli evid .', 'the ethic implic machin learn also gain attent , issu bia , fair , transpar crucial ensur benefit technolog realiz without unintend consequ .', 'research practition work toward develop robust explain ai system trust adopt wide .', 'in conclus , machin learn transform technolog reshap industri creat new opportun .', 'it abil analyz interpret vast amount data revolution way decis made action taken .', 'as move forward , collabor academia , industri , policymak essenti har full potenti machin learn address challeng come .', '-- - thi extend paragraph provid comprehens overview machin learn , techniqu , applic , implic , make suitabl in-depth nlp task .']\n",
            "[\"sure , 's extend version paragraph : -- - machin learn branch artifici intellig focu develop algorithm allow comput learn make predict deci base data .\", 'wide use variou field financ , healthcar , market analyz larg dataset uncov pattern would difficult human detect .', 'differ type machin learn techniqu , includ supervi learn , unsupervi learn , reinforc learn , strength applic .', 'supervi learn involv train model label data , input come correct output , make suitabl task like classif regress .', 'unsupervi learn , hand , deal unlabel data use cluster associ task , goal find hidden pattern intrin structur data .', 'reinforc learn type machin learn agent learn make decis perform certain action receiv reward penalti .', 'in recent year , advanc machin learn driven avail larg amount data power comput resourc .', 'the rise big data cloud comput provid unpreced opportun train complex model vast dataset .', 'deep learn , subset machin learn , gain signific attent due abil model high-level abstract data use neural network mani layer .', 'thi led breakthrough variou domain , includ comput vision , natur languag process , speech recognit .', 'moreov , integr machin learn emerg technolog , internet thing ( iot ) blockchain , open new possibl innov .', 'in healthcar sector , machin learn use predict diseas outbreak , person treatment plan , acceler drug discoveri .', 'in financ , employ fraud detect , algorithm trade , risk manag .', 'market profession leverag machin learn gain insight custom behavior , optim campaign , enhanc custom engag .', 'as technolog continu advanc , import machin learn drive innov improv effici becom increasingli evid .', 'the ethic implic machin learn also gain attent , issu bia , fair , transpar crucial ensur benefit technolog realiz without unintend consequ .', 'research practition work toward develop robust explain ai system trust adopt wide .', 'in conclus , machin learn transform technolog reshap industri creat new opportun .', 'it abil analyz interpret vast amount data revolution way decis made action taken .', 'as move forward , collabor academia , industri , policymak essenti har full potenti machin learn address challeng come .', '-- - thi extend paragraph provid comprehens overview machin learn , techniqu , applic , implic , make suitabl in-depth nlp task .']\n",
            "[\"sure , 's extend version paragraph : -- - machin learn branch artifici intellig focu develop algorithm allow comput learn make predict deci base data .\", 'wide use variou field financ , healthcar , market analyz larg dataset uncov pattern would difficult human detect .', 'differ type machin learn techniqu , includ supervi learn , unsupervi learn , reinforc learn , strength applic .', 'supervi learn involv train model label data , input come correct output , make suitabl task like classif regress .', 'unsupervi learn , hand , deal unlabel data use cluster associ task , goal find hidden pattern intrin structur data .', 'reinforc learn type machin learn agent learn make deci perform certain action receiv reward penalti .', 'in recent year , advanc machin learn driven avail larg amount data power comput resourc .', 'the rise big data cloud comput provid unpreced opportun train complex model vast dataset .', 'deep learn , subset machin learn , gain signific attent due abil model high-level abstract data use neural network mani layer .', 'thi led breakthrough variou domain , includ comput vision , natur languag process , speech recognit .', 'moreov , integr machin learn emerg technolog , internet thing ( iot ) blockchain , open new possibl innov .', 'in healthcar sector , machin learn use predict diseas outbreak , person treatment plan , acceler drug discoveri .', 'in financ , employ fraud detect , algorithm trade , risk manag .', 'market profession leverag machin learn gain insight custom behavior , optim campaign , enhanc custom engag .', 'as technolog continu advanc , import machin learn drive innov improv effici becom increasingli evid .', 'the ethic implic machin learn also gain attent , issu bia , fair , transpar crucial ensur benefit technolog realiz without unintend consequ .', 'research practition work toward develop robust explain ai system trust adopt wide .', 'in conclus , machin learn transform technolog reshap industri creat new opportun .', 'it abil analyz interpret vast amount data revolution way decis made action taken .', 'as move forward , collabor academia , industri , policymak essenti har full potenti machin learn address challeng come .', '-- - thi extend paragraph provid comprehens overview machin learn , techniqu , applic , implic , make suitabl in-depth nlp task .']\n",
            "[\"sure , 's extend version paragraph : -- - machin learn branch artifici intellig focu develop algorithm allow comput learn make predict deci base data .\", 'wide use variou field financ , healthcar , market analyz larg dataset uncov pattern would difficult human detect .', 'differ type machin learn techniqu , includ supervi learn , unsupervi learn , reinforc learn , strength applic .', 'supervi learn involv train model label data , input come correct output , make suitabl task like classif regress .', 'unsupervi learn , hand , deal unlabel data use cluster associ task , goal find hidden pattern intrin structur data .', 'reinforc learn type machin learn agent learn make deci perform certain action receiv reward penalti .', 'recent year , advanc machin learn driven avail larg amount data power comput resourc .', 'the rise big data cloud comput provid unpreced opportun train complex model vast dataset .', 'deep learn , subset machin learn , gain signific attent due abil model high-level abstract data use neural network mani layer .', 'thi led breakthrough variou domain , includ comput vision , natur languag process , speech recognit .', 'moreov , integr machin learn emerg technolog , internet thing ( iot ) blockchain , open new possibl innov .', 'in healthcar sector , machin learn use predict diseas outbreak , person treatment plan , acceler drug discoveri .', 'in financ , employ fraud detect , algorithm trade , risk manag .', 'market profession leverag machin learn gain insight custom behavior , optim campaign , enhanc custom engag .', 'as technolog continu advanc , import machin learn drive innov improv effici becom increasingli evid .', 'the ethic implic machin learn also gain attent , issu bia , fair , transpar crucial ensur benefit technolog realiz without unintend consequ .', 'research practition work toward develop robust explain ai system trust adopt wide .', 'in conclus , machin learn transform technolog reshap industri creat new opportun .', 'it abil analyz interpret vast amount data revolution way decis made action taken .', 'as move forward , collabor academia , industri , policymak essenti har full potenti machin learn address challeng come .', '-- - thi extend paragraph provid comprehens overview machin learn , techniqu , applic , implic , make suitabl in-depth nlp task .']\n",
            "[\"sure , 's extend version paragraph : -- - machin learn branch artifici intellig focu develop algorithm allow comput learn make predict deci base data .\", 'wide use variou field financ , healthcar , market analyz larg dataset uncov pattern would difficult human detect .', 'differ type machin learn techniqu , includ supervi learn , unsupervi learn , reinforc learn , strength applic .', 'supervi learn involv train model label data , input come correct output , make suitabl task like classif regress .', 'unsupervi learn , hand , deal unlabel data use cluster associ task , goal find hidden pattern intrin structur data .', 'reinforc learn type machin learn agent learn make deci perform certain action receiv reward penalti .', 'recent year , advanc machin learn driven avail larg amount data power comput resourc .', 'rise big data cloud comput provid unprec opportun train complex model vast dataset .', 'deep learn , subset machin learn , gain signific attent due abil model high-level abstract data use neural network mani layer .', 'thi led breakthrough variou domain , includ comput vision , natur languag process , speech recognit .', 'moreov , integr machin learn emerg technolog , internet thing ( iot ) blockchain , open new possibl innov .', 'in healthcar sector , machin learn use predict diseas outbreak , person treatment plan , acceler drug discoveri .', 'in financ , employ fraud detect , algorithm trade , risk manag .', 'market profession leverag machin learn gain insight custom behavior , optim campaign , enhanc custom engag .', 'as technolog continu advanc , import machin learn drive innov improv effici becom increasingli evid .', 'the ethic implic machin learn also gain attent , issu bia , fair , transpar crucial ensur benefit technolog realiz without unintend consequ .', 'research practition work toward develop robust explain ai system trust adopt wide .', 'in conclus , machin learn transform technolog reshap industri creat new opportun .', 'it abil analyz interpret vast amount data revolution way decis made action taken .', 'as move forward , collabor academia , industri , policymak essenti har full potenti machin learn address challeng come .', '-- - thi extend paragraph provid comprehens overview machin learn , techniqu , applic , implic , make suitabl in-depth nlp task .']\n",
            "[\"sure , 's extend version paragraph : -- - machin learn branch artifici intellig focu develop algorithm allow comput learn make predict deci base data .\", 'wide use variou field financ , healthcar , market analyz larg dataset uncov pattern would difficult human detect .', 'differ type machin learn techniqu , includ supervi learn , unsupervi learn , reinforc learn , strength applic .', 'supervi learn involv train model label data , input come correct output , make suitabl task like classif regress .', 'unsupervi learn , hand , deal unlabel data use cluster associ task , goal find hidden pattern intrin structur data .', 'reinforc learn type machin learn agent learn make deci perform certain action receiv reward penalti .', 'recent year , advanc machin learn driven avail larg amount data power comput resourc .', 'rise big data cloud comput provid unprec opportun train complex model vast dataset .', 'deep learn , subset machin learn , gain signif attent due abil model high-level abstract data use neural network mani layer .', 'thi led breakthrough variou domain , includ comput vision , natur languag process , speech recognit .', 'moreov , integr machin learn emerg technolog , internet thing ( iot ) blockchain , open new possibl innov .', 'in healthcar sector , machin learn use predict diseas outbreak , person treatment plan , acceler drug discoveri .', 'in financ , employ fraud detect , algorithm trade , risk manag .', 'market profession leverag machin learn gain insight custom behavior , optim campaign , enhanc custom engag .', 'as technolog continu advanc , import machin learn drive innov improv effici becom increasingli evid .', 'the ethic implic machin learn also gain attent , issu bia , fair , transpar crucial ensur benefit technolog realiz without unintend consequ .', 'research practition work toward develop robust explain ai system trust adopt wide .', 'in conclus , machin learn transform technolog reshap industri creat new opportun .', 'it abil analyz interpret vast amount data revolution way decis made action taken .', 'as move forward , collabor academia , industri , policymak essenti har full potenti machin learn address challeng come .', '-- - thi extend paragraph provid comprehens overview machin learn , techniqu , applic , implic , make suitabl in-depth nlp task .']\n",
            "[\"sure , 's extend version paragraph : -- - machin learn branch artifici intellig focu develop algorithm allow comput learn make predict deci base data .\", 'wide use variou field financ , healthcar , market analyz larg dataset uncov pattern would difficult human detect .', 'differ type machin learn techniqu , includ supervi learn , unsupervi learn , reinforc learn , strength applic .', 'supervi learn involv train model label data , input come correct output , make suitabl task like classif regress .', 'unsupervi learn , hand , deal unlabel data use cluster associ task , goal find hidden pattern intrin structur data .', 'reinforc learn type machin learn agent learn make deci perform certain action receiv reward penalti .', 'recent year , advanc machin learn driven avail larg amount data power comput resourc .', 'rise big data cloud comput provid unprec opportun train complex model vast dataset .', 'deep learn , subset machin learn , gain signif attent due abil model high-level abstract data use neural network mani layer .', 'thi led breakthrough variou domain , includ comput vision , natur languag process , speech recognit .', 'moreov , integr machin learn emerg technolog , internet thing ( iot ) blockchain , open new possibl innov .', 'in healthcar sector , machin learn use predict diseas outbreak , person treatment plan , acceler drug discoveri .', 'in financ , employ fraud detect , algorithm trade , risk manag .', 'market profession leverag machin learn gain insight custom behavior , optim campaign , enhanc custom engag .', 'as technolog continu advanc , import machin learn drive innov improv effici becom increasingli evid .', 'the ethic implic machin learn also gain attent , issu bia , fair , transpar crucial ensur benefit technolog realiz without unintend consequ .', 'research practition work toward develop robust explain ai system trust adopt wide .', 'in conclus , machin learn transform technolog reshap industri creat new opportun .', 'it abil analyz interpret vast amount data revolution way decis made action taken .', 'as move forward , collabor academia , industri , policymak essenti har full potenti machin learn address challeng come .', '-- - thi extend paragraph provid comprehens overview machin learn , techniqu , applic , implic , make suitabl in-depth nlp task .']\n",
            "[\"sure , 's extend version paragraph : -- - machin learn branch artifici intellig focu develop algorithm allow comput learn make predict deci base data .\", 'wide use variou field financ , healthcar , market analyz larg dataset uncov pattern would difficult human detect .', 'differ type machin learn techniqu , includ supervi learn , unsupervi learn , reinforc learn , strength applic .', 'supervi learn involv train model label data , input come correct output , make suitabl task like classif regress .', 'unsupervi learn , hand , deal unlabel data use cluster associ task , goal find hidden pattern intrin structur data .', 'reinforc learn type machin learn agent learn make deci perform certain action receiv reward penalti .', 'recent year , advanc machin learn driven avail larg amount data power comput resourc .', 'rise big data cloud comput provid unprec opportun train complex model vast dataset .', 'deep learn , subset machin learn , gain signif attent due abil model high-level abstract data use neural network mani layer .', 'thi led breakthrough variou domain , includ comput vision , natur languag process , speech recognit .', 'moreov , integr machin learn emerg technolog , internet thing ( iot ) blockchain , open new possibl innov .', 'in healthcar sector , machin learn use predict diseas outbreak , person treatment plan , acceler drug discoveri .', 'in financ , employ fraud detect , algorithm trade , risk manag .', 'market profession leverag machin learn gain insight custom behavior , optim campaign , enhanc custom engag .', 'as technolog continu advanc , import machin learn drive innov improv effici becom increasingli evid .', 'the ethic implic machin learn also gain attent , issu bia , fair , transpar crucial ensur benefit technolog realiz without unintend consequ .', 'research practition work toward develop robust explain ai system trust adopt wide .', 'in conclus , machin learn transform technolog reshap industri creat new opportun .', 'it abil analyz interpret vast amount data revolution way decis made action taken .', 'as move forward , collabor academia , industri , policymak essenti har full potenti machin learn address challeng come .', '-- - thi extend paragraph provid comprehens overview machin learn , techniqu , applic , implic , make suitabl in-depth nlp task .']\n",
            "[\"sure , 's extend version paragraph : -- - machin learn branch artifici intellig focu develop algorithm allow comput learn make predict deci base data .\", 'wide use variou field financ , healthcar , market analyz larg dataset uncov pattern would difficult human detect .', 'differ type machin learn techniqu , includ supervi learn , unsupervi learn , reinforc learn , strength applic .', 'supervi learn involv train model label data , input come correct output , make suitabl task like classif regress .', 'unsupervi learn , hand , deal unlabel data use cluster associ task , goal find hidden pattern intrin structur data .', 'reinforc learn type machin learn agent learn make deci perform certain action receiv reward penalti .', 'recent year , advanc machin learn driven avail larg amount data power comput resourc .', 'rise big data cloud comput provid unprec opportun train complex model vast dataset .', 'deep learn , subset machin learn , gain signif attent due abil model high-level abstract data use neural network mani layer .', 'thi led breakthrough variou domain , includ comput vision , natur languag process , speech recognit .', 'moreov , integr machin learn emerg technolog , internet thing ( iot ) blockchain , open new possibl innov .', 'healthcar sector , machin learn use predict disea outbreak , person treatment plan , accel drug discoveri .', 'in financ , employ fraud detect , algorithm trade , risk manag .', 'market profession leverag machin learn gain insight custom behavior , optim campaign , enhanc custom engag .', 'as technolog continu advanc , import machin learn drive innov improv effici becom increasingli evid .', 'the ethic implic machin learn also gain attent , issu bia , fair , transpar crucial ensur benefit technolog realiz without unintend consequ .', 'research practition work toward develop robust explain ai system trust adopt wide .', 'in conclus , machin learn transform technolog reshap industri creat new opportun .', 'it abil analyz interpret vast amount data revolution way decis made action taken .', 'as move forward , collabor academia , industri , policymak essenti har full potenti machin learn address challeng come .', '-- - thi extend paragraph provid comprehens overview machin learn , techniqu , applic , implic , make suitabl in-depth nlp task .']\n",
            "[\"sure , 's extend version paragraph : -- - machin learn branch artifici intellig focu develop algorithm allow comput learn make predict deci base data .\", 'wide use variou field financ , healthcar , market analyz larg dataset uncov pattern would difficult human detect .', 'differ type machin learn techniqu , includ supervi learn , unsupervi learn , reinforc learn , strength applic .', 'supervi learn involv train model label data , input come correct output , make suitabl task like classif regress .', 'unsupervi learn , hand , deal unlabel data use cluster associ task , goal find hidden pattern intrin structur data .', 'reinforc learn type machin learn agent learn make deci perform certain action receiv reward penalti .', 'recent year , advanc machin learn driven avail larg amount data power comput resourc .', 'rise big data cloud comput provid unprec opportun train complex model vast dataset .', 'deep learn , subset machin learn , gain signif attent due abil model high-level abstract data use neural network mani layer .', 'thi led breakthrough variou domain , includ comput vision , natur languag process , speech recognit .', 'moreov , integr machin learn emerg technolog , internet thing ( iot ) blockchain , open new possibl innov .', 'healthcar sector , machin learn use predict disea outbreak , person treatment plan , accel drug discoveri .', 'financ , employ fraud detect , algorithm trade , risk manag .', 'market profession leverag machin learn gain insight custom behavior , optim campaign , enhanc custom engag .', 'as technolog continu advanc , import machin learn drive innov improv effici becom increasingli evid .', 'the ethic implic machin learn also gain attent , issu bia , fair , transpar crucial ensur benefit technolog realiz without unintend consequ .', 'research practition work toward develop robust explain ai system trust adopt wide .', 'in conclus , machin learn transform technolog reshap industri creat new opportun .', 'it abil analyz interpret vast amount data revolution way decis made action taken .', 'as move forward , collabor academia , industri , policymak essenti har full potenti machin learn address challeng come .', '-- - thi extend paragraph provid comprehens overview machin learn , techniqu , applic , implic , make suitabl in-depth nlp task .']\n",
            "[\"sure , 's extend version paragraph : -- - machin learn branch artifici intellig focu develop algorithm allow comput learn make predict deci base data .\", 'wide use variou field financ , healthcar , market analyz larg dataset uncov pattern would difficult human detect .', 'differ type machin learn techniqu , includ supervi learn , unsupervi learn , reinforc learn , strength applic .', 'supervi learn involv train model label data , input come correct output , make suitabl task like classif regress .', 'unsupervi learn , hand , deal unlabel data use cluster associ task , goal find hidden pattern intrin structur data .', 'reinforc learn type machin learn agent learn make deci perform certain action receiv reward penalti .', 'recent year , advanc machin learn driven avail larg amount data power comput resourc .', 'rise big data cloud comput provid unprec opportun train complex model vast dataset .', 'deep learn , subset machin learn , gain signif attent due abil model high-level abstract data use neural network mani layer .', 'thi led breakthrough variou domain , includ comput vision , natur languag process , speech recognit .', 'moreov , integr machin learn emerg technolog , internet thing ( iot ) blockchain , open new possibl innov .', 'healthcar sector , machin learn use predict disea outbreak , person treatment plan , accel drug discoveri .', 'financ , employ fraud detect , algorithm trade , risk manag .', 'market profess leverag machin learn gain insight custom behavior , optim campaign , enhanc custom engag .', 'as technolog continu advanc , import machin learn drive innov improv effici becom increasingli evid .', 'the ethic implic machin learn also gain attent , issu bia , fair , transpar crucial ensur benefit technolog realiz without unintend consequ .', 'research practition work toward develop robust explain ai system trust adopt wide .', 'in conclus , machin learn transform technolog reshap industri creat new opportun .', 'it abil analyz interpret vast amount data revolution way decis made action taken .', 'as move forward , collabor academia , industri , policymak essenti har full potenti machin learn address challeng come .', '-- - thi extend paragraph provid comprehens overview machin learn , techniqu , applic , implic , make suitabl in-depth nlp task .']\n",
            "[\"sure , 's extend version paragraph : -- - machin learn branch artifici intellig focu develop algorithm allow comput learn make predict deci base data .\", 'wide use variou field financ , healthcar , market analyz larg dataset uncov pattern would difficult human detect .', 'differ type machin learn techniqu , includ supervi learn , unsupervi learn , reinforc learn , strength applic .', 'supervi learn involv train model label data , input come correct output , make suitabl task like classif regress .', 'unsupervi learn , hand , deal unlabel data use cluster associ task , goal find hidden pattern intrin structur data .', 'reinforc learn type machin learn agent learn make deci perform certain action receiv reward penalti .', 'recent year , advanc machin learn driven avail larg amount data power comput resourc .', 'rise big data cloud comput provid unprec opportun train complex model vast dataset .', 'deep learn , subset machin learn , gain signif attent due abil model high-level abstract data use neural network mani layer .', 'thi led breakthrough variou domain , includ comput vision , natur languag process , speech recognit .', 'moreov , integr machin learn emerg technolog , internet thing ( iot ) blockchain , open new possibl innov .', 'healthcar sector , machin learn use predict disea outbreak , person treatment plan , accel drug discoveri .', 'financ , employ fraud detect , algorithm trade , risk manag .', 'market profess leverag machin learn gain insight custom behavior , optim campaign , enhanc custom engag .', 'technolog continu advanc , import machin learn drive innov improv effici becom increasingli evid .', 'the ethic implic machin learn also gain attent , issu bia , fair , transpar crucial ensur benefit technolog realiz without unintend consequ .', 'research practition work toward develop robust explain ai system trust adopt wide .', 'in conclus , machin learn transform technolog reshap industri creat new opportun .', 'it abil analyz interpret vast amount data revolution way decis made action taken .', 'as move forward , collabor academia , industri , policymak essenti har full potenti machin learn address challeng come .', '-- - thi extend paragraph provid comprehens overview machin learn , techniqu , applic , implic , make suitabl in-depth nlp task .']\n",
            "[\"sure , 's extend version paragraph : -- - machin learn branch artifici intellig focu develop algorithm allow comput learn make predict deci base data .\", 'wide use variou field financ , healthcar , market analyz larg dataset uncov pattern would difficult human detect .', 'differ type machin learn techniqu , includ supervi learn , unsupervi learn , reinforc learn , strength applic .', 'supervi learn involv train model label data , input come correct output , make suitabl task like classif regress .', 'unsupervi learn , hand , deal unlabel data use cluster associ task , goal find hidden pattern intrin structur data .', 'reinforc learn type machin learn agent learn make deci perform certain action receiv reward penalti .', 'recent year , advanc machin learn driven avail larg amount data power comput resourc .', 'rise big data cloud comput provid unprec opportun train complex model vast dataset .', 'deep learn , subset machin learn , gain signif attent due abil model high-level abstract data use neural network mani layer .', 'thi led breakthrough variou domain , includ comput vision , natur languag process , speech recognit .', 'moreov , integr machin learn emerg technolog , internet thing ( iot ) blockchain , open new possibl innov .', 'healthcar sector , machin learn use predict disea outbreak , person treatment plan , accel drug discoveri .', 'financ , employ fraud detect , algorithm trade , risk manag .', 'market profess leverag machin learn gain insight custom behavior , optim campaign , enhanc custom engag .', 'technolog continu advanc , import machin learn drive innov improv effici becom increasingli evid .', 'ethic implic machin learn also gain attent , issu bia , fair , transpar crucial ensur benefit technolog realiz without unintend consequ .', 'research practition work toward develop robust explain ai system trust adopt wide .', 'in conclus , machin learn transform technolog reshap industri creat new opportun .', 'it abil analyz interpret vast amount data revolution way decis made action taken .', 'as move forward , collabor academia , industri , policymak essenti har full potenti machin learn address challeng come .', '-- - thi extend paragraph provid comprehens overview machin learn , techniqu , applic , implic , make suitabl in-depth nlp task .']\n",
            "[\"sure , 's extend version paragraph : -- - machin learn branch artifici intellig focu develop algorithm allow comput learn make predict deci base data .\", 'wide use variou field financ , healthcar , market analyz larg dataset uncov pattern would difficult human detect .', 'differ type machin learn techniqu , includ supervi learn , unsupervi learn , reinforc learn , strength applic .', 'supervi learn involv train model label data , input come correct output , make suitabl task like classif regress .', 'unsupervi learn , hand , deal unlabel data use cluster associ task , goal find hidden pattern intrin structur data .', 'reinforc learn type machin learn agent learn make deci perform certain action receiv reward penalti .', 'recent year , advanc machin learn driven avail larg amount data power comput resourc .', 'rise big data cloud comput provid unprec opportun train complex model vast dataset .', 'deep learn , subset machin learn , gain signif attent due abil model high-level abstract data use neural network mani layer .', 'thi led breakthrough variou domain , includ comput vision , natur languag process , speech recognit .', 'moreov , integr machin learn emerg technolog , internet thing ( iot ) blockchain , open new possibl innov .', 'healthcar sector , machin learn use predict disea outbreak , person treatment plan , accel drug discoveri .', 'financ , employ fraud detect , algorithm trade , risk manag .', 'market profess leverag machin learn gain insight custom behavior , optim campaign , enhanc custom engag .', 'technolog continu advanc , import machin learn drive innov improv effici becom increasingli evid .', 'ethic implic machin learn also gain attent , issu bia , fair , transpar crucial ensur benefit technolog realiz without unintend consequ .', 'research practit work toward develop robust explain ai system trust adopt wide .', 'in conclus , machin learn transform technolog reshap industri creat new opportun .', 'it abil analyz interpret vast amount data revolution way decis made action taken .', 'as move forward , collabor academia , industri , policymak essenti har full potenti machin learn address challeng come .', '-- - thi extend paragraph provid comprehens overview machin learn , techniqu , applic , implic , make suitabl in-depth nlp task .']\n",
            "[\"sure , 's extend version paragraph : -- - machin learn branch artifici intellig focu develop algorithm allow comput learn make predict deci base data .\", 'wide use variou field financ , healthcar , market analyz larg dataset uncov pattern would difficult human detect .', 'differ type machin learn techniqu , includ supervi learn , unsupervi learn , reinforc learn , strength applic .', 'supervi learn involv train model label data , input come correct output , make suitabl task like classif regress .', 'unsupervi learn , hand , deal unlabel data use cluster associ task , goal find hidden pattern intrin structur data .', 'reinforc learn type machin learn agent learn make deci perform certain action receiv reward penalti .', 'recent year , advanc machin learn driven avail larg amount data power comput resourc .', 'rise big data cloud comput provid unprec opportun train complex model vast dataset .', 'deep learn , subset machin learn , gain signif attent due abil model high-level abstract data use neural network mani layer .', 'thi led breakthrough variou domain , includ comput vision , natur languag process , speech recognit .', 'moreov , integr machin learn emerg technolog , internet thing ( iot ) blockchain , open new possibl innov .', 'healthcar sector , machin learn use predict disea outbreak , person treatment plan , accel drug discoveri .', 'financ , employ fraud detect , algorithm trade , risk manag .', 'market profess leverag machin learn gain insight custom behavior , optim campaign , enhanc custom engag .', 'technolog continu advanc , import machin learn drive innov improv effici becom increasingli evid .', 'ethic implic machin learn also gain attent , issu bia , fair , transpar crucial ensur benefit technolog realiz without unintend consequ .', 'research practit work toward develop robust explain ai system trust adopt wide .', 'conclu , machin learn transform technolog reshap industri creat new opportun .', 'it abil analyz interpret vast amount data revolution way decis made action taken .', 'as move forward , collabor academia , industri , policymak essenti har full potenti machin learn address challeng come .', '-- - thi extend paragraph provid comprehens overview machin learn , techniqu , applic , implic , make suitabl in-depth nlp task .']\n",
            "[\"sure , 's extend version paragraph : -- - machin learn branch artifici intellig focu develop algorithm allow comput learn make predict deci base data .\", 'wide use variou field financ , healthcar , market analyz larg dataset uncov pattern would difficult human detect .', 'differ type machin learn techniqu , includ supervi learn , unsupervi learn , reinforc learn , strength applic .', 'supervi learn involv train model label data , input come correct output , make suitabl task like classif regress .', 'unsupervi learn , hand , deal unlabel data use cluster associ task , goal find hidden pattern intrin structur data .', 'reinforc learn type machin learn agent learn make deci perform certain action receiv reward penalti .', 'recent year , advanc machin learn driven avail larg amount data power comput resourc .', 'rise big data cloud comput provid unprec opportun train complex model vast dataset .', 'deep learn , subset machin learn , gain signif attent due abil model high-level abstract data use neural network mani layer .', 'thi led breakthrough variou domain , includ comput vision , natur languag process , speech recognit .', 'moreov , integr machin learn emerg technolog , internet thing ( iot ) blockchain , open new possibl innov .', 'healthcar sector , machin learn use predict disea outbreak , person treatment plan , accel drug discoveri .', 'financ , employ fraud detect , algorithm trade , risk manag .', 'market profess leverag machin learn gain insight custom behavior , optim campaign , enhanc custom engag .', 'technolog continu advanc , import machin learn drive innov improv effici becom increasingli evid .', 'ethic implic machin learn also gain attent , issu bia , fair , transpar crucial ensur benefit technolog realiz without unintend consequ .', 'research practit work toward develop robust explain ai system trust adopt wide .', 'conclu , machin learn transform technolog reshap industri creat new opportun .', 'abil analyz interpret vast amount data revolut way deci made action taken .', 'as move forward , collabor academia , industri , policymak essenti har full potenti machin learn address challeng come .', '-- - thi extend paragraph provid comprehens overview machin learn , techniqu , applic , implic , make suitabl in-depth nlp task .']\n",
            "[\"sure , 's extend version paragraph : -- - machin learn branch artifici intellig focu develop algorithm allow comput learn make predict deci base data .\", 'wide use variou field financ , healthcar , market analyz larg dataset uncov pattern would difficult human detect .', 'differ type machin learn techniqu , includ supervi learn , unsupervi learn , reinforc learn , strength applic .', 'supervi learn involv train model label data , input come correct output , make suitabl task like classif regress .', 'unsupervi learn , hand , deal unlabel data use cluster associ task , goal find hidden pattern intrin structur data .', 'reinforc learn type machin learn agent learn make deci perform certain action receiv reward penalti .', 'recent year , advanc machin learn driven avail larg amount data power comput resourc .', 'rise big data cloud comput provid unprec opportun train complex model vast dataset .', 'deep learn , subset machin learn , gain signif attent due abil model high-level abstract data use neural network mani layer .', 'thi led breakthrough variou domain , includ comput vision , natur languag process , speech recognit .', 'moreov , integr machin learn emerg technolog , internet thing ( iot ) blockchain , open new possibl innov .', 'healthcar sector , machin learn use predict disea outbreak , person treatment plan , accel drug discoveri .', 'financ , employ fraud detect , algorithm trade , risk manag .', 'market profess leverag machin learn gain insight custom behavior , optim campaign , enhanc custom engag .', 'technolog continu advanc , import machin learn drive innov improv effici becom increasingli evid .', 'ethic implic machin learn also gain attent , issu bia , fair , transpar crucial ensur benefit technolog realiz without unintend consequ .', 'research practit work toward develop robust explain ai system trust adopt wide .', 'conclu , machin learn transform technolog reshap industri creat new opportun .', 'abil analyz interpret vast amount data revolut way deci made action taken .', 'move forward , collabor academia , industri , policymak essenti har full potenti machin learn address challeng come .', '-- - thi extend paragraph provid comprehens overview machin learn , techniqu , applic , implic , make suitabl in-depth nlp task .']\n",
            "[\"sure , 's extend version paragraph : -- - machin learn branch artifici intellig focu develop algorithm allow comput learn make predict deci base data .\", 'wide use variou field financ , healthcar , market analyz larg dataset uncov pattern would difficult human detect .', 'differ type machin learn techniqu , includ supervi learn , unsupervi learn , reinforc learn , strength applic .', 'supervi learn involv train model label data , input come correct output , make suitabl task like classif regress .', 'unsupervi learn , hand , deal unlabel data use cluster associ task , goal find hidden pattern intrin structur data .', 'reinforc learn type machin learn agent learn make deci perform certain action receiv reward penalti .', 'recent year , advanc machin learn driven avail larg amount data power comput resourc .', 'rise big data cloud comput provid unprec opportun train complex model vast dataset .', 'deep learn , subset machin learn , gain signif attent due abil model high-level abstract data use neural network mani layer .', 'thi led breakthrough variou domain , includ comput vision , natur languag process , speech recognit .', 'moreov , integr machin learn emerg technolog , internet thing ( iot ) blockchain , open new possibl innov .', 'healthcar sector , machin learn use predict disea outbreak , person treatment plan , accel drug discoveri .', 'financ , employ fraud detect , algorithm trade , risk manag .', 'market profess leverag machin learn gain insight custom behavior , optim campaign , enhanc custom engag .', 'technolog continu advanc , import machin learn drive innov improv effici becom increasingli evid .', 'ethic implic machin learn also gain attent , issu bia , fair , transpar crucial ensur benefit technolog realiz without unintend consequ .', 'research practit work toward develop robust explain ai system trust adopt wide .', 'conclu , machin learn transform technolog reshap industri creat new opportun .', 'abil analyz interpret vast amount data revolut way deci made action taken .', 'move forward , collabor academia , industri , policymak essenti har full potenti machin learn address challeng come .', '-- - thi extend paragraph provid comprehen overview machin learn , techniqu , applic , implic , make suitabl in-depth nlp task .']\n"
          ]
        }
      ]
    },
    {
      "cell_type": "code",
      "source": [
        "## Lemmatization\n",
        "from nltk.stem import WordNetLemmatizer\n",
        "nltk.download('wordnet')\n",
        "lemmatizer = WordNetLemmatizer()\n",
        "\n",
        "for i in range(len(sentences)):\n",
        "  words = word_tokenize(sentences[i])\n",
        "  words = [lemmatizer.lemmatize(word) for word in words if word not in set(nltk.corpus.stopwords.words('english'))]\n",
        "  sentences[i] = ' '.join(words)\n",
        "\n",
        "print (sentences)\n",
        "\n"
      ],
      "metadata": {
        "colab": {
          "base_uri": "https://localhost:8080/"
        },
        "id": "F4g4onTlukze",
        "outputId": "b12c2197-7db1-4f28-8eb1-3b4f393340d5"
      },
      "execution_count": 71,
      "outputs": [
        {
          "output_type": "stream",
          "name": "stderr",
          "text": [
            "[nltk_data] Downloading package wordnet to /root/nltk_data...\n"
          ]
        },
        {
          "output_type": "stream",
          "name": "stdout",
          "text": [
            "[\"sure , 's extend version paragraph : -- - machin learn branch artifici intellig focu develop algorithm allow comput learn make predict deci base data .\", 'wide use variou field financ , healthcar , market analyz larg dataset uncov pattern would difficult human detect .', 'differ type machin learn techniqu , includ supervi learn , unsupervi learn , reinforc learn , strength applic .', 'supervi learn involv train model label data , input come correct output , make suitabl task like classif regress .', 'unsupervi learn , hand , deal unlabel data use cluster associ task , goal find hidden pattern intrin structur data .', 'reinforc learn type machin learn agent learn make deci perform certain action receiv reward penalti .', 'recent year , advanc machin learn driven avail larg amount data power comput resourc .', 'rise big data cloud comput provid unprec opportun train complex model vast dataset .', 'deep learn , subset machin learn , gain signif attent due abil model high-level abstract data use neural network mani layer .', 'thi led breakthrough variou domain , includ comput vision , natur languag process , speech recognit .', 'moreov , integr machin learn emerg technolog , internet thing ( iot ) blockchain , open new possibl innov .', 'healthcar sector , machin learn use predict disea outbreak , person treatment plan , accel drug discoveri .', 'financ , employ fraud detect , algorithm trade , risk manag .', 'market profess leverag machin learn gain insight custom behavior , optim campaign , enhanc custom engag .', 'technolog continu advanc , import machin learn drive innov improv effici becom increasingli evid .', 'ethic implic machin learn also gain attent , issu bia , fair , transpar crucial ensur benefit technolog realiz without unintend consequ .', 'research practit work toward develop robust explain ai system trust adopt wide .', 'conclu , machin learn transform technolog reshap industri creat new opportun .', 'abil analyz interpret vast amount data revolut way deci made action taken .', 'move forward , collabor academia , industri , policymak essenti har full potenti machin learn address challeng come .', '-- - thi extend paragraph provid comprehen overview machin learn , techniqu , applic , implic , make suitabl in-depth nlp task .']\n"
          ]
        }
      ]
    },
    {
      "cell_type": "code",
      "source": [
        "## Text Processing\n",
        "\"\"\"Bogs of Words (BOW)\n",
        "     Sent 1: He is intelligent boy\n",
        "     sent 2: She is intelligent girl\n",
        "     sent 3: Both of them are intelligent boy and girl \"\"\""
      ],
      "metadata": {
        "id": "BUsP-5RexdtE"
      },
      "execution_count": null,
      "outputs": []
    }
  ]
}