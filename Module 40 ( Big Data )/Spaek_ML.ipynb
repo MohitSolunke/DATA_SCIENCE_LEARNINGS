{
  "nbformat": 4,
  "nbformat_minor": 0,
  "metadata": {
    "colab": {
      "provenance": []
    },
    "kernelspec": {
      "name": "python3",
      "display_name": "Python 3"
    },
    "language_info": {
      "name": "python"
    }
  },
  "cells": [
    {
      "cell_type": "code",
      "execution_count": 1,
      "metadata": {
        "colab": {
          "base_uri": "https://localhost:8080/"
        },
        "id": "nS4dgGRGh9-A",
        "outputId": "9ed33590-7067-4657-d5a4-b401238fa13d",
        "collapsed": true
      },
      "outputs": [
        {
          "output_type": "stream",
          "name": "stdout",
          "text": [
            "Collecting ucimlrepo\n",
            "  Downloading ucimlrepo-0.0.7-py3-none-any.whl.metadata (5.5 kB)\n",
            "Requirement already satisfied: pandas>=1.0.0 in /usr/local/lib/python3.10/dist-packages (from ucimlrepo) (2.1.4)\n",
            "Requirement already satisfied: certifi>=2020.12.5 in /usr/local/lib/python3.10/dist-packages (from ucimlrepo) (2024.7.4)\n",
            "Requirement already satisfied: numpy<2,>=1.22.4 in /usr/local/lib/python3.10/dist-packages (from pandas>=1.0.0->ucimlrepo) (1.26.4)\n",
            "Requirement already satisfied: python-dateutil>=2.8.2 in /usr/local/lib/python3.10/dist-packages (from pandas>=1.0.0->ucimlrepo) (2.8.2)\n",
            "Requirement already satisfied: pytz>=2020.1 in /usr/local/lib/python3.10/dist-packages (from pandas>=1.0.0->ucimlrepo) (2024.1)\n",
            "Requirement already satisfied: tzdata>=2022.1 in /usr/local/lib/python3.10/dist-packages (from pandas>=1.0.0->ucimlrepo) (2024.1)\n",
            "Requirement already satisfied: six>=1.5 in /usr/local/lib/python3.10/dist-packages (from python-dateutil>=2.8.2->pandas>=1.0.0->ucimlrepo) (1.16.0)\n",
            "Downloading ucimlrepo-0.0.7-py3-none-any.whl (8.0 kB)\n",
            "Installing collected packages: ucimlrepo\n",
            "Successfully installed ucimlrepo-0.0.7\n"
          ]
        }
      ],
      "source": [
        "pip install ucimlrepo"
      ]
    },
    {
      "cell_type": "code",
      "source": [
        "from ucimlrepo import fetch_ucirepo\n",
        "\n",
        "# fetch dataset\n",
        "adult = fetch_ucirepo(id=2)\n",
        "\n",
        "# data (as pandas dataframes)\n",
        "X = adult.data.features\n",
        "y = adult.data.targets\n",
        "\n",
        "# metadata\n",
        "print(adult.metadata)\n",
        "\n",
        "# variable information\n",
        "print(adult.variables)\n"
      ],
      "metadata": {
        "colab": {
          "base_uri": "https://localhost:8080/"
        },
        "id": "rdhvzDfGiH11",
        "outputId": "3bc4c886-712a-4b31-db12-a0bc12153678",
        "collapsed": true
      },
      "execution_count": 2,
      "outputs": [
        {
          "output_type": "stream",
          "name": "stdout",
          "text": [
            "{'uci_id': 2, 'name': 'Adult', 'repository_url': 'https://archive.ics.uci.edu/dataset/2/adult', 'data_url': 'https://archive.ics.uci.edu/static/public/2/data.csv', 'abstract': 'Predict whether income exceeds $50K/yr based on census data. Also known as \"Census Income\" dataset. ', 'area': 'Social Science', 'tasks': ['Classification'], 'characteristics': ['Multivariate'], 'num_instances': 48842, 'num_features': 14, 'feature_types': ['Categorical', 'Integer'], 'demographics': ['Age', 'Income', 'Education Level', 'Other', 'Race', 'Sex'], 'target_col': ['income'], 'index_col': None, 'has_missing_values': 'yes', 'missing_values_symbol': 'NaN', 'year_of_dataset_creation': 1996, 'last_updated': 'Mon Aug 07 2023', 'dataset_doi': '10.24432/C5XW20', 'creators': ['Barry Becker', 'Ronny Kohavi'], 'intro_paper': None, 'additional_info': {'summary': 'Extraction was done by Barry Becker from the 1994 Census database.  A set of reasonably clean records was extracted using the following conditions: ((AAGE>16) && (AGI>100) && (AFNLWGT>1)&& (HRSWK>0))\\r\\n\\r\\nPrediction task is to determine whether a person makes over 50K a year.\\r\\n', 'purpose': None, 'funded_by': None, 'instances_represent': None, 'recommended_data_splits': None, 'sensitive_data': None, 'preprocessing_description': None, 'variable_info': 'Listing of attributes:\\r\\n\\r\\n>50K, <=50K.\\r\\n\\r\\nage: continuous.\\r\\nworkclass: Private, Self-emp-not-inc, Self-emp-inc, Federal-gov, Local-gov, State-gov, Without-pay, Never-worked.\\r\\nfnlwgt: continuous.\\r\\neducation: Bachelors, Some-college, 11th, HS-grad, Prof-school, Assoc-acdm, Assoc-voc, 9th, 7th-8th, 12th, Masters, 1st-4th, 10th, Doctorate, 5th-6th, Preschool.\\r\\neducation-num: continuous.\\r\\nmarital-status: Married-civ-spouse, Divorced, Never-married, Separated, Widowed, Married-spouse-absent, Married-AF-spouse.\\r\\noccupation: Tech-support, Craft-repair, Other-service, Sales, Exec-managerial, Prof-specialty, Handlers-cleaners, Machine-op-inspct, Adm-clerical, Farming-fishing, Transport-moving, Priv-house-serv, Protective-serv, Armed-Forces.\\r\\nrelationship: Wife, Own-child, Husband, Not-in-family, Other-relative, Unmarried.\\r\\nrace: White, Asian-Pac-Islander, Amer-Indian-Eskimo, Other, Black.\\r\\nsex: Female, Male.\\r\\ncapital-gain: continuous.\\r\\ncapital-loss: continuous.\\r\\nhours-per-week: continuous.\\r\\nnative-country: United-States, Cambodia, England, Puerto-Rico, Canada, Germany, Outlying-US(Guam-USVI-etc), India, Japan, Greece, South, China, Cuba, Iran, Honduras, Philippines, Italy, Poland, Jamaica, Vietnam, Mexico, Portugal, Ireland, France, Dominican-Republic, Laos, Ecuador, Taiwan, Haiti, Columbia, Hungary, Guatemala, Nicaragua, Scotland, Thailand, Yugoslavia, El-Salvador, Trinadad&Tobago, Peru, Hong, Holand-Netherlands.', 'citation': None}}\n",
            "              name     role         type      demographic  \\\n",
            "0              age  Feature      Integer              Age   \n",
            "1        workclass  Feature  Categorical           Income   \n",
            "2           fnlwgt  Feature      Integer             None   \n",
            "3        education  Feature  Categorical  Education Level   \n",
            "4    education-num  Feature      Integer  Education Level   \n",
            "5   marital-status  Feature  Categorical            Other   \n",
            "6       occupation  Feature  Categorical            Other   \n",
            "7     relationship  Feature  Categorical            Other   \n",
            "8             race  Feature  Categorical             Race   \n",
            "9              sex  Feature       Binary              Sex   \n",
            "10    capital-gain  Feature      Integer             None   \n",
            "11    capital-loss  Feature      Integer             None   \n",
            "12  hours-per-week  Feature      Integer             None   \n",
            "13  native-country  Feature  Categorical            Other   \n",
            "14          income   Target       Binary           Income   \n",
            "\n",
            "                                          description units missing_values  \n",
            "0                                                 N/A  None             no  \n",
            "1   Private, Self-emp-not-inc, Self-emp-inc, Feder...  None            yes  \n",
            "2                                                None  None             no  \n",
            "3    Bachelors, Some-college, 11th, HS-grad, Prof-...  None             no  \n",
            "4                                                None  None             no  \n",
            "5   Married-civ-spouse, Divorced, Never-married, S...  None             no  \n",
            "6   Tech-support, Craft-repair, Other-service, Sal...  None            yes  \n",
            "7   Wife, Own-child, Husband, Not-in-family, Other...  None             no  \n",
            "8   White, Asian-Pac-Islander, Amer-Indian-Eskimo,...  None             no  \n",
            "9                                       Female, Male.  None             no  \n",
            "10                                               None  None             no  \n",
            "11                                               None  None             no  \n",
            "12                                               None  None             no  \n",
            "13  United-States, Cambodia, England, Puerto-Rico,...  None            yes  \n",
            "14                                       >50K, <=50K.  None             no  \n"
          ]
        }
      ]
    },
    {
      "cell_type": "code",
      "source": [
        "pip install pyspark"
      ],
      "metadata": {
        "colab": {
          "base_uri": "https://localhost:8080/"
        },
        "id": "Du0Og2BKiJ0r",
        "outputId": "c8719c86-99c3-4006-ffca-1090a765317d",
        "collapsed": true
      },
      "execution_count": 3,
      "outputs": [
        {
          "output_type": "stream",
          "name": "stdout",
          "text": [
            "Collecting pyspark\n",
            "  Downloading pyspark-3.5.2.tar.gz (317.3 MB)\n",
            "\u001b[2K     \u001b[90m━━━━━━━━━━━━━━━━━━━━━━━━━━━━━━━━━━━━━━━━\u001b[0m \u001b[32m317.3/317.3 MB\u001b[0m \u001b[31m3.9 MB/s\u001b[0m eta \u001b[36m0:00:00\u001b[0m\n",
            "\u001b[?25h  Preparing metadata (setup.py) ... \u001b[?25l\u001b[?25hdone\n",
            "Requirement already satisfied: py4j==0.10.9.7 in /usr/local/lib/python3.10/dist-packages (from pyspark) (0.10.9.7)\n",
            "Building wheels for collected packages: pyspark\n",
            "  Building wheel for pyspark (setup.py) ... \u001b[?25l\u001b[?25hdone\n",
            "  Created wheel for pyspark: filename=pyspark-3.5.2-py2.py3-none-any.whl size=317812365 sha256=771ccfdadf3b58bb3ea5139d813256bbee36fdbc63c0dfdf7743e863e6bec196\n",
            "  Stored in directory: /root/.cache/pip/wheels/34/34/bd/03944534c44b677cd5859f248090daa9fb27b3c8f8e5f49574\n",
            "Successfully built pyspark\n",
            "Installing collected packages: pyspark\n",
            "Successfully installed pyspark-3.5.2\n"
          ]
        }
      ]
    },
    {
      "cell_type": "code",
      "source": [
        "import pyspark\n",
        "from pyspark.sql import SparkSession\n",
        "spark = SparkSession.builder.appName('adult').getOrCreate()"
      ],
      "metadata": {
        "id": "uZ5YUj-2ia0p"
      },
      "execution_count": 4,
      "outputs": []
    },
    {
      "cell_type": "code",
      "source": [
        "data = spark.read.csv('/content/adult.data', header=True, inferSchema=True)"
      ],
      "metadata": {
        "id": "XqwOrj0Fil1E"
      },
      "execution_count": 6,
      "outputs": []
    },
    {
      "cell_type": "code",
      "source": [
        "data.show()"
      ],
      "metadata": {
        "colab": {
          "base_uri": "https://localhost:8080/"
        },
        "id": "8HtfQPBTjF6b",
        "outputId": "288d9971-e8a7-42e8-a499-80facd476681"
      },
      "execution_count": 7,
      "outputs": [
        {
          "output_type": "stream",
          "name": "stdout",
          "text": [
            "+---+-----------------+--------+-------------+----+--------------------+------------------+--------------+-------------------+-------+-------+---+----+--------------+------+\n",
            "| 39|        State-gov|   77516|    Bachelors|  13|       Never-married|      Adm-clerical| Not-in-family|              White|   Male|   2174|  0|  40| United-States| <=50K|\n",
            "+---+-----------------+--------+-------------+----+--------------------+------------------+--------------+-------------------+-------+-------+---+----+--------------+------+\n",
            "| 50| Self-emp-not-inc| 83311.0|    Bachelors|13.0|  Married-civ-spouse|   Exec-managerial|       Husband|              White|   Male|    0.0|0.0|13.0| United-States| <=50K|\n",
            "| 38|          Private|215646.0|      HS-grad| 9.0|            Divorced| Handlers-cleaners| Not-in-family|              White|   Male|    0.0|0.0|40.0| United-States| <=50K|\n",
            "| 53|          Private|234721.0|         11th| 7.0|  Married-civ-spouse| Handlers-cleaners|       Husband|              Black|   Male|    0.0|0.0|40.0| United-States| <=50K|\n",
            "| 28|          Private|338409.0|    Bachelors|13.0|  Married-civ-spouse|    Prof-specialty|          Wife|              Black| Female|    0.0|0.0|40.0|          Cuba| <=50K|\n",
            "| 37|          Private|284582.0|      Masters|14.0|  Married-civ-spouse|   Exec-managerial|          Wife|              White| Female|    0.0|0.0|40.0| United-States| <=50K|\n",
            "| 49|          Private|160187.0|          9th| 5.0| Married-spouse-a...|     Other-service| Not-in-family|              Black| Female|    0.0|0.0|16.0|       Jamaica| <=50K|\n",
            "| 52| Self-emp-not-inc|209642.0|      HS-grad| 9.0|  Married-civ-spouse|   Exec-managerial|       Husband|              White|   Male|    0.0|0.0|45.0| United-States|  >50K|\n",
            "| 31|          Private| 45781.0|      Masters|14.0|       Never-married|    Prof-specialty| Not-in-family|              White| Female|14084.0|0.0|50.0| United-States|  >50K|\n",
            "| 42|          Private|159449.0|    Bachelors|13.0|  Married-civ-spouse|   Exec-managerial|       Husband|              White|   Male| 5178.0|0.0|40.0| United-States|  >50K|\n",
            "| 37|          Private|280464.0| Some-college|10.0|  Married-civ-spouse|   Exec-managerial|       Husband|              Black|   Male|    0.0|0.0|80.0| United-States|  >50K|\n",
            "| 30|        State-gov|141297.0|    Bachelors|13.0|  Married-civ-spouse|    Prof-specialty|       Husband| Asian-Pac-Islander|   Male|    0.0|0.0|40.0|         India|  >50K|\n",
            "| 23|          Private|122272.0|    Bachelors|13.0|       Never-married|      Adm-clerical|     Own-child|              White| Female|    0.0|0.0|30.0| United-States| <=50K|\n",
            "| 32|          Private|205019.0|   Assoc-acdm|12.0|       Never-married|             Sales| Not-in-family|              Black|   Male|    0.0|0.0|50.0| United-States| <=50K|\n",
            "| 40|          Private|121772.0|    Assoc-voc|11.0|  Married-civ-spouse|      Craft-repair|       Husband| Asian-Pac-Islander|   Male|    0.0|0.0|40.0|             ?|  >50K|\n",
            "| 34|          Private|245487.0|      7th-8th| 4.0|  Married-civ-spouse|  Transport-moving|       Husband| Amer-Indian-Eskimo|   Male|    0.0|0.0|45.0|        Mexico| <=50K|\n",
            "| 25| Self-emp-not-inc|176756.0|      HS-grad| 9.0|       Never-married|   Farming-fishing|     Own-child|              White|   Male|    0.0|0.0|35.0| United-States| <=50K|\n",
            "| 32|          Private|186824.0|      HS-grad| 9.0|       Never-married| Machine-op-inspct|     Unmarried|              White|   Male|    0.0|0.0|40.0| United-States| <=50K|\n",
            "| 38|          Private| 28887.0|         11th| 7.0|  Married-civ-spouse|             Sales|       Husband|              White|   Male|    0.0|0.0|50.0| United-States| <=50K|\n",
            "| 43| Self-emp-not-inc|292175.0|      Masters|14.0|            Divorced|   Exec-managerial|     Unmarried|              White| Female|    0.0|0.0|45.0| United-States|  >50K|\n",
            "| 40|          Private|193524.0|    Doctorate|16.0|  Married-civ-spouse|    Prof-specialty|       Husband|              White|   Male|    0.0|0.0|60.0| United-States|  >50K|\n",
            "+---+-----------------+--------+-------------+----+--------------------+------------------+--------------+-------------------+-------+-------+---+----+--------------+------+\n",
            "only showing top 20 rows\n",
            "\n"
          ]
        }
      ]
    },
    {
      "cell_type": "code",
      "source": [
        "labels = ['age','workclass','fnlwgt','education','numbers','marital','occupation','relation','race','gender','gain','loss','hourlypay','country','income']"
      ],
      "metadata": {
        "id": "x2B_Git8jI4q"
      },
      "execution_count": 8,
      "outputs": []
    },
    {
      "cell_type": "code",
      "source": [
        "df = data.toDF(*labels)\n",
        "df.show()"
      ],
      "metadata": {
        "colab": {
          "base_uri": "https://localhost:8080/"
        },
        "id": "ZBrovmJVjx7W",
        "outputId": "e388ee71-4d51-465e-f89d-920dce241b28"
      },
      "execution_count": 9,
      "outputs": [
        {
          "output_type": "stream",
          "name": "stdout",
          "text": [
            "+---+-----------------+--------+-------------+-------+--------------------+------------------+--------------+-------------------+-------+-------+----+---------+--------------+------+\n",
            "|age|        workclass|  fnlwgt|    education|numbers|             marital|        occupation|      relation|               race| gender|   gain|loss|hourlypay|       country|income|\n",
            "+---+-----------------+--------+-------------+-------+--------------------+------------------+--------------+-------------------+-------+-------+----+---------+--------------+------+\n",
            "| 50| Self-emp-not-inc| 83311.0|    Bachelors|   13.0|  Married-civ-spouse|   Exec-managerial|       Husband|              White|   Male|    0.0| 0.0|     13.0| United-States| <=50K|\n",
            "| 38|          Private|215646.0|      HS-grad|    9.0|            Divorced| Handlers-cleaners| Not-in-family|              White|   Male|    0.0| 0.0|     40.0| United-States| <=50K|\n",
            "| 53|          Private|234721.0|         11th|    7.0|  Married-civ-spouse| Handlers-cleaners|       Husband|              Black|   Male|    0.0| 0.0|     40.0| United-States| <=50K|\n",
            "| 28|          Private|338409.0|    Bachelors|   13.0|  Married-civ-spouse|    Prof-specialty|          Wife|              Black| Female|    0.0| 0.0|     40.0|          Cuba| <=50K|\n",
            "| 37|          Private|284582.0|      Masters|   14.0|  Married-civ-spouse|   Exec-managerial|          Wife|              White| Female|    0.0| 0.0|     40.0| United-States| <=50K|\n",
            "| 49|          Private|160187.0|          9th|    5.0| Married-spouse-a...|     Other-service| Not-in-family|              Black| Female|    0.0| 0.0|     16.0|       Jamaica| <=50K|\n",
            "| 52| Self-emp-not-inc|209642.0|      HS-grad|    9.0|  Married-civ-spouse|   Exec-managerial|       Husband|              White|   Male|    0.0| 0.0|     45.0| United-States|  >50K|\n",
            "| 31|          Private| 45781.0|      Masters|   14.0|       Never-married|    Prof-specialty| Not-in-family|              White| Female|14084.0| 0.0|     50.0| United-States|  >50K|\n",
            "| 42|          Private|159449.0|    Bachelors|   13.0|  Married-civ-spouse|   Exec-managerial|       Husband|              White|   Male| 5178.0| 0.0|     40.0| United-States|  >50K|\n",
            "| 37|          Private|280464.0| Some-college|   10.0|  Married-civ-spouse|   Exec-managerial|       Husband|              Black|   Male|    0.0| 0.0|     80.0| United-States|  >50K|\n",
            "| 30|        State-gov|141297.0|    Bachelors|   13.0|  Married-civ-spouse|    Prof-specialty|       Husband| Asian-Pac-Islander|   Male|    0.0| 0.0|     40.0|         India|  >50K|\n",
            "| 23|          Private|122272.0|    Bachelors|   13.0|       Never-married|      Adm-clerical|     Own-child|              White| Female|    0.0| 0.0|     30.0| United-States| <=50K|\n",
            "| 32|          Private|205019.0|   Assoc-acdm|   12.0|       Never-married|             Sales| Not-in-family|              Black|   Male|    0.0| 0.0|     50.0| United-States| <=50K|\n",
            "| 40|          Private|121772.0|    Assoc-voc|   11.0|  Married-civ-spouse|      Craft-repair|       Husband| Asian-Pac-Islander|   Male|    0.0| 0.0|     40.0|             ?|  >50K|\n",
            "| 34|          Private|245487.0|      7th-8th|    4.0|  Married-civ-spouse|  Transport-moving|       Husband| Amer-Indian-Eskimo|   Male|    0.0| 0.0|     45.0|        Mexico| <=50K|\n",
            "| 25| Self-emp-not-inc|176756.0|      HS-grad|    9.0|       Never-married|   Farming-fishing|     Own-child|              White|   Male|    0.0| 0.0|     35.0| United-States| <=50K|\n",
            "| 32|          Private|186824.0|      HS-grad|    9.0|       Never-married| Machine-op-inspct|     Unmarried|              White|   Male|    0.0| 0.0|     40.0| United-States| <=50K|\n",
            "| 38|          Private| 28887.0|         11th|    7.0|  Married-civ-spouse|             Sales|       Husband|              White|   Male|    0.0| 0.0|     50.0| United-States| <=50K|\n",
            "| 43| Self-emp-not-inc|292175.0|      Masters|   14.0|            Divorced|   Exec-managerial|     Unmarried|              White| Female|    0.0| 0.0|     45.0| United-States|  >50K|\n",
            "| 40|          Private|193524.0|    Doctorate|   16.0|  Married-civ-spouse|    Prof-specialty|       Husband|              White|   Male|    0.0| 0.0|     60.0| United-States|  >50K|\n",
            "+---+-----------------+--------+-------------+-------+--------------------+------------------+--------------+-------------------+-------+-------+----+---------+--------------+------+\n",
            "only showing top 20 rows\n",
            "\n"
          ]
        }
      ]
    },
    {
      "cell_type": "code",
      "source": [
        "# Checking for the corret datatype for each column\n",
        "df.printSchema()"
      ],
      "metadata": {
        "colab": {
          "base_uri": "https://localhost:8080/"
        },
        "id": "zRmdY4tVj9sT",
        "outputId": "1b85af7a-a11e-4688-e27e-a0b981fa940c"
      },
      "execution_count": 10,
      "outputs": [
        {
          "output_type": "stream",
          "name": "stdout",
          "text": [
            "root\n",
            " |-- age: integer (nullable = true)\n",
            " |-- workclass: string (nullable = true)\n",
            " |-- fnlwgt: double (nullable = true)\n",
            " |-- education: string (nullable = true)\n",
            " |-- numbers: double (nullable = true)\n",
            " |-- marital: string (nullable = true)\n",
            " |-- occupation: string (nullable = true)\n",
            " |-- relation: string (nullable = true)\n",
            " |-- race: string (nullable = true)\n",
            " |-- gender: string (nullable = true)\n",
            " |-- gain: double (nullable = true)\n",
            " |-- loss: double (nullable = true)\n",
            " |-- hourlypay: double (nullable = true)\n",
            " |-- country: string (nullable = true)\n",
            " |-- income: string (nullable = true)\n",
            "\n"
          ]
        }
      ]
    },
    {
      "cell_type": "code",
      "source": [
        "# Convert the some given feature in correct datatype\n",
        "from pyspark.sql.functions import col\n",
        "for i in ['age','fnlwgt','numbers','gain','loss','hourlypay']:\n",
        "  new_df = df.withColumn(i, col(i).cast('integer'))"
      ],
      "metadata": {
        "id": "bGhJNcYpkjT6"
      },
      "execution_count": 11,
      "outputs": []
    },
    {
      "cell_type": "code",
      "source": [
        "new_df.printSchema()"
      ],
      "metadata": {
        "colab": {
          "base_uri": "https://localhost:8080/"
        },
        "id": "2xFlL3bElqO0",
        "outputId": "53aae2bf-7af2-41dd-dd2a-f94d794607b4"
      },
      "execution_count": 12,
      "outputs": [
        {
          "output_type": "stream",
          "name": "stdout",
          "text": [
            "root\n",
            " |-- age: integer (nullable = true)\n",
            " |-- workclass: string (nullable = true)\n",
            " |-- fnlwgt: double (nullable = true)\n",
            " |-- education: string (nullable = true)\n",
            " |-- numbers: double (nullable = true)\n",
            " |-- marital: string (nullable = true)\n",
            " |-- occupation: string (nullable = true)\n",
            " |-- relation: string (nullable = true)\n",
            " |-- race: string (nullable = true)\n",
            " |-- gender: string (nullable = true)\n",
            " |-- gain: double (nullable = true)\n",
            " |-- loss: double (nullable = true)\n",
            " |-- hourlypay: integer (nullable = true)\n",
            " |-- country: string (nullable = true)\n",
            " |-- income: string (nullable = true)\n",
            "\n"
          ]
        }
      ]
    },
    {
      "cell_type": "code",
      "source": [
        "# Now Check for the NULL Values\n",
        "from pyspark.sql.functions import *\n",
        "\n",
        "new_df.select([count(when(col(c).isNull(), c)).alias(c) for c in new_df.columns]).show()"
      ],
      "metadata": {
        "colab": {
          "base_uri": "https://localhost:8080/"
        },
        "id": "a-HK30Jjlrbn",
        "outputId": "f7b09b58-d100-46d2-f89b-9e69cdf458d1"
      },
      "execution_count": 13,
      "outputs": [
        {
          "output_type": "stream",
          "name": "stdout",
          "text": [
            "+---+---------+------+---------+-------+-------+----------+--------+----+------+----+----+---------+-------+------+\n",
            "|age|workclass|fnlwgt|education|numbers|marital|occupation|relation|race|gender|gain|loss|hourlypay|country|income|\n",
            "+---+---------+------+---------+-------+-------+----------+--------+----+------+----+----+---------+-------+------+\n",
            "|  0|        0|     0|        0|      0|      0|         0|       0|   0|     0|   0|   0|        0|      0|     0|\n",
            "+---+---------+------+---------+-------+-------+----------+--------+----+------+----+----+---------+-------+------+\n",
            "\n"
          ]
        }
      ]
    },
    {
      "cell_type": "code",
      "source": [
        "# Check for different values of columns\n",
        "df.select('workclass').distinct().show()"
      ],
      "metadata": {
        "colab": {
          "base_uri": "https://localhost:8080/"
        },
        "id": "zU1ce3P6nGES",
        "outputId": "8e91992b-2a0e-4900-f91b-f72c5ffcb91a"
      },
      "execution_count": 14,
      "outputs": [
        {
          "output_type": "stream",
          "name": "stdout",
          "text": [
            "+-----------------+\n",
            "|        workclass|\n",
            "+-----------------+\n",
            "|        State-gov|\n",
            "|      Federal-gov|\n",
            "| Self-emp-not-inc|\n",
            "|        Local-gov|\n",
            "|          Private|\n",
            "|                ?|\n",
            "|     Self-emp-inc|\n",
            "|      Without-pay|\n",
            "|     Never-worked|\n",
            "+-----------------+\n",
            "\n"
          ]
        }
      ]
    },
    {
      "cell_type": "code",
      "source": [
        "# replace the unwanted value  with None\n",
        "df =new_df.replace(\"?\", None)"
      ],
      "metadata": {
        "id": "bmqb2ehOoAx4"
      },
      "execution_count": 17,
      "outputs": []
    },
    {
      "cell_type": "code",
      "source": [
        "# Now Check for the NULL Values\n",
        "from pyspark.sql.functions import *\n",
        "\n",
        "df.select([count(when(col(c).isNull(), c)).alias(c) for c in new_df.columns]).show()"
      ],
      "metadata": {
        "colab": {
          "base_uri": "https://localhost:8080/"
        },
        "id": "5v-rQW3kGJE2",
        "outputId": "44231e4f-61be-4c5f-a8a4-3a9ade51cf75"
      },
      "execution_count": 18,
      "outputs": [
        {
          "output_type": "stream",
          "name": "stdout",
          "text": [
            "+---+---------+------+---------+-------+-------+----------+--------+----+------+----+----+---------+-------+------+\n",
            "|age|workclass|fnlwgt|education|numbers|marital|occupation|relation|race|gender|gain|loss|hourlypay|country|income|\n",
            "+---+---------+------+---------+-------+-------+----------+--------+----+------+----+----+---------+-------+------+\n",
            "|  0|        0|     0|        0|      0|      0|         0|       0|   0|     0|   0|   0|        0|      0|     0|\n",
            "+---+---------+------+---------+-------+-------+----------+--------+----+------+----+----+---------+-------+------+\n",
            "\n"
          ]
        }
      ]
    },
    {
      "cell_type": "code",
      "source": [
        "df.groupby(\"country\").count().show()"
      ],
      "metadata": {
        "colab": {
          "base_uri": "https://localhost:8080/"
        },
        "id": "zx6-NF9hGlRl",
        "outputId": "2d0fc53d-a4be-4701-b47b-a66a11770d70"
      },
      "execution_count": 19,
      "outputs": [
        {
          "output_type": "stream",
          "name": "stdout",
          "text": [
            "+-------------------+-----+\n",
            "|            country|count|\n",
            "+-------------------+-----+\n",
            "| Dominican-Republic|   70|\n",
            "|            Ireland|   24|\n",
            "|               Cuba|   95|\n",
            "|          Guatemala|   64|\n",
            "|               Iran|   43|\n",
            "|             Taiwan|   51|\n",
            "|        El-Salvador|  106|\n",
            "|      United-States|29169|\n",
            "|              South|   80|\n",
            "|              Japan|   62|\n",
            "|          Nicaragua|   34|\n",
            "|             Canada|  121|\n",
            "|           Cambodia|   19|\n",
            "|               Laos|   18|\n",
            "|            Germany|  137|\n",
            "|    Trinadad&Tobago|   19|\n",
            "|               Peru|   31|\n",
            "|            Ecuador|   28|\n",
            "|         Yugoslavia|   16|\n",
            "|            Vietnam|   67|\n",
            "+-------------------+-----+\n",
            "only showing top 20 rows\n",
            "\n"
          ]
        }
      ]
    },
    {
      "cell_type": "code",
      "source": [
        "df = df.fillna(\"United-States\", subset = ['country'])\n"
      ],
      "metadata": {
        "id": "iSEG859jHFRk"
      },
      "execution_count": 22,
      "outputs": []
    },
    {
      "cell_type": "code",
      "source": [
        "df = df.fillna(\"Private\", subset = ['workclass'])"
      ],
      "metadata": {
        "id": "qIuN_FoHHU5Z"
      },
      "execution_count": 23,
      "outputs": []
    },
    {
      "cell_type": "code",
      "source": [
        "df = df.fillna(\"Prof-speciality\", subset = ['occupation'])"
      ],
      "metadata": {
        "id": "zeQcPWjhHWeQ"
      },
      "execution_count": 24,
      "outputs": []
    },
    {
      "cell_type": "code",
      "source": [
        "df.select([count(when(col(c).isNull(), c)).alias(c) for c in new_df.columns]).show()"
      ],
      "metadata": {
        "colab": {
          "base_uri": "https://localhost:8080/"
        },
        "id": "KxX9G5cUH4PG",
        "outputId": "5b2170e7-85c7-441c-bc7d-cab04bd28c46"
      },
      "execution_count": 25,
      "outputs": [
        {
          "output_type": "stream",
          "name": "stdout",
          "text": [
            "+---+---------+------+---------+-------+-------+----------+--------+----+------+----+----+---------+-------+------+\n",
            "|age|workclass|fnlwgt|education|numbers|marital|occupation|relation|race|gender|gain|loss|hourlypay|country|income|\n",
            "+---+---------+------+---------+-------+-------+----------+--------+----+------+----+----+---------+-------+------+\n",
            "|  0|        0|     0|        0|      0|      0|         0|       0|   0|     0|   0|   0|        0|      0|     0|\n",
            "+---+---------+------+---------+-------+-------+----------+--------+----+------+----+----+---------+-------+------+\n",
            "\n"
          ]
        }
      ]
    },
    {
      "cell_type": "code",
      "source": [
        "from pyspark.ml.classification import LogisticRegression\n",
        "from pyspark.ml import Pipeline\n",
        "from pyspark.ml.feature import StringIndexer, VectorAssembler\n"
      ],
      "metadata": {
        "id": "rIjMCV_1H8Aw"
      },
      "execution_count": 44,
      "outputs": []
    },
    {
      "cell_type": "markdown",
      "source": [],
      "metadata": {
        "id": "8a3BIMGvIqWA"
      }
    },
    {
      "cell_type": "code",
      "source": [
        "df.columns"
      ],
      "metadata": {
        "colab": {
          "base_uri": "https://localhost:8080/"
        },
        "id": "ZKOxm2aJIsGg",
        "outputId": "7d86610f-9075-4d92-b20c-f9b488f28d80"
      },
      "execution_count": 27,
      "outputs": [
        {
          "output_type": "execute_result",
          "data": {
            "text/plain": [
              "['age',\n",
              " 'workclass',\n",
              " 'fnlwgt',\n",
              " 'education',\n",
              " 'numbers',\n",
              " 'marital',\n",
              " 'occupation',\n",
              " 'relation',\n",
              " 'race',\n",
              " 'gender',\n",
              " 'gain',\n",
              " 'loss',\n",
              " 'hourlypay',\n",
              " 'country',\n",
              " 'income']"
            ]
          },
          "metadata": {},
          "execution_count": 27
        }
      ]
    },
    {
      "cell_type": "code",
      "source": [
        "categorical_cols = [\n",
        " 'workclass',\n",
        " 'education',\n",
        " 'marital',\n",
        " 'occupation',\n",
        " 'relation',\n",
        " 'race',\n",
        " 'gender',\n",
        " 'country',\n",
        "]\n",
        "\n",
        "numerical_cols = ['age','fnlwgt','numbers','gain','loss','hourlypay']\n",
        "label = 'income'"
      ],
      "metadata": {
        "id": "eclbxOBWIlXT"
      },
      "execution_count": 29,
      "outputs": []
    },
    {
      "cell_type": "code",
      "source": [
        "indexer = [StringIndexer(inputCol = c, outputCol = f\"{c}_index\", handleInvalid = \"keep\") for c in categorical_cols]\n"
      ],
      "metadata": {
        "id": "D5s17I2dI9cS"
      },
      "execution_count": 33,
      "outputs": []
    },
    {
      "cell_type": "code",
      "source": [
        "label_indexer = StringIndexer(inputCol = \"income\", outputCol = \"label\", handleInvalid = \"keep\")\n",
        "\n"
      ],
      "metadata": {
        "id": "ipf8Z7A5Ka02"
      },
      "execution_count": 34,
      "outputs": []
    },
    {
      "cell_type": "code",
      "source": [
        "assembler = VectorAssembler(inputCols = [f\"{c}_index\" for c in categorical_cols] + numerical_cols, outputCol = \"features\")"
      ],
      "metadata": {
        "id": "L6jfJoofKxJa"
      },
      "execution_count": 35,
      "outputs": []
    },
    {
      "cell_type": "code",
      "source": [
        "lr = LogisticRegression(featuresCol = \"features\", labelCol = \"label\")"
      ],
      "metadata": {
        "id": "pSzYcOB-LJbW"
      },
      "execution_count": 38,
      "outputs": []
    },
    {
      "cell_type": "code",
      "source": [
        "from pyspark.ml import Pipeline\n",
        "pipeline = Pipeline(stages = indexer + [label_indexer, assembler, lr])"
      ],
      "metadata": {
        "id": "-gT_8mwKLSMQ"
      },
      "execution_count": 43,
      "outputs": []
    },
    {
      "cell_type": "code",
      "source": [
        "train_data, test_data = df.randomSplit([0.8, 0.2])"
      ],
      "metadata": {
        "id": "bnYQ3HGjL0rB"
      },
      "execution_count": 45,
      "outputs": []
    },
    {
      "cell_type": "code",
      "source": [
        "model = pipeline.fit(train_data)"
      ],
      "metadata": {
        "id": "uzlAM2IoMM6u"
      },
      "execution_count": 46,
      "outputs": []
    },
    {
      "cell_type": "code",
      "source": [
        "predictions = model.transform(test_data)"
      ],
      "metadata": {
        "id": "UwSewV-2MT6g"
      },
      "execution_count": 47,
      "outputs": []
    },
    {
      "cell_type": "code",
      "source": [
        "predictions.show()"
      ],
      "metadata": {
        "colab": {
          "base_uri": "https://localhost:8080/"
        },
        "id": "F5V0KSKHMcgO",
        "outputId": "09f160d5-32b0-4364-a66f-1044a1712b8f"
      },
      "execution_count": 48,
      "outputs": [
        {
          "output_type": "stream",
          "name": "stdout",
          "text": [
            "+---+----------+--------+---------+-------+--------------+------------------+----------+------+-------+----+----+---------+----------------+------+---------------+---------------+-------------+----------------+--------------+----------+------------+-------------+-----+--------------------+--------------------+--------------------+----------+\n",
            "|age| workclass|  fnlwgt|education|numbers|       marital|        occupation|  relation|  race| gender|gain|loss|hourlypay|         country|income|workclass_index|education_index|marital_index|occupation_index|relation_index|race_index|gender_index|country_index|label|            features|       rawPrediction|         probability|prediction|\n",
            "+---+----------+--------+---------+-------+--------------+------------------+----------+------+-------+----+----+---------+----------------+------+---------------+---------------+-------------+----------------+--------------+----------+------------+-------------+-----+--------------------+--------------------+--------------------+----------+\n",
            "| 17|         ?| 48703.0|     11th|    7.0| Never-married|                 ?| Own-child| White| Female| 0.0| 0.0|       30|   United-States| <=50K|            3.0|            5.0|          1.0|             7.0|           2.0|       0.0|         1.0|          0.0|  0.0|[3.0,5.0,1.0,7.0,...|[10.2509334913184...|[0.99245154117961...|       0.0|\n",
            "| 17|         ?|104025.0|     11th|    7.0| Never-married|                 ?| Own-child| White|   Male| 0.0| 0.0|       18|   United-States| <=50K|            3.0|            5.0|          1.0|             7.0|           2.0|       0.0|         0.0|          0.0|  0.0|[3.0,5.0,1.0,7.0,...|[9.96062016513771...|[0.99221386567047...|       0.0|\n",
            "| 17|         ?|127003.0|      9th|    5.0| Never-married|                 ?| Own-child| Black|   Male| 0.0| 0.0|       40|   United-States| <=50K|            3.0|           10.0|          1.0|             7.0|           2.0|       1.0|         0.0|          0.0|  0.0|[3.0,10.0,1.0,7.0...|[9.99456347702724...|[0.99295432043152...|       0.0|\n",
            "| 17|         ?|148769.0|  HS-grad|    9.0| Never-married|                 ?| Own-child| Black|   Male| 0.0| 0.0|       40|   United-States| <=50K|            3.0|            0.0|          1.0|             7.0|           2.0|       1.0|         0.0|          0.0|  0.0|[3.0,0.0,1.0,7.0,...|[9.43085912878322...|[0.97158869031975...|       0.0|\n",
            "| 17|         ?|181337.0|     10th|    6.0| Never-married|                 ?| Own-child| Other| Female| 0.0| 0.0|       20|   United-States| <=50K|            3.0|            7.0|          1.0|             7.0|           2.0|       4.0|         1.0|          0.0|  0.0|[3.0,7.0,1.0,7.0,...|[11.1757367312479...|[0.99786880460438...|       0.0|\n",
            "| 17|         ?|187539.0|     11th|    7.0| Never-married|                 ?| Own-child| White| Female| 0.0| 0.0|       10|   United-States| <=50K|            3.0|            5.0|          1.0|             7.0|           2.0|       0.0|         1.0|          0.0|  0.0|[3.0,5.0,1.0,7.0,...|[10.6486523301242...|[0.99587881554230...|       0.0|\n",
            "| 17|         ?|202521.0|     11th|    7.0| Never-married|                 ?| Own-child| White|   Male| 0.0| 0.0|       40|   United-States| <=50K|            3.0|            5.0|          1.0|             7.0|           2.0|       0.0|         0.0|          0.0|  0.0|[3.0,5.0,1.0,7.0,...|[9.58766201977708...|[0.98271401272851...|       0.0|\n",
            "| 17|         ?|212125.0|     10th|    6.0| Never-married|                 ?| Own-child| White| Female| 0.0| 0.0|       20|   United-States| <=50K|            3.0|            7.0|          1.0|             7.0|           2.0|       0.0|         1.0|          0.0|  0.0|[3.0,7.0,1.0,7.0,...|[10.6170343803049...|[0.99582557607689...|       0.0|\n",
            "| 17|         ?|219277.0|     11th|    7.0| Never-married|                 ?| Own-child| White| Female| 0.0| 0.0|       20|   United-States| <=50K|            3.0|            5.0|          1.0|             7.0|           2.0|       0.0|         1.0|          0.0|  0.0|[3.0,5.0,1.0,7.0,...|[10.4757779904376...|[0.99410495173320...|       0.0|\n",
            "| 17|         ?|262196.0|     10th|    6.0| Never-married|                 ?| Own-child| White|   Male| 0.0| 0.0|        8|   United-States| <=50K|            3.0|            7.0|          1.0|             7.0|           2.0|       0.0|         0.0|          0.0|  0.0|[3.0,7.0,1.0,7.0,...|[10.3253721706809...|[0.99570599646613...|       0.0|\n",
            "| 17|         ?|332666.0|     10th|    6.0| Never-married|                 ?| Own-child| White| Female| 0.0| 0.0|        4|   United-States| <=50K|            3.0|            7.0|          1.0|             7.0|           2.0|       0.0|         1.0|          0.0|  0.0|[3.0,7.0,1.0,7.0,...|[10.9376426819250...|[0.99741727838929...|       0.0|\n",
            "| 17|         ?|634226.0|     10th|    6.0| Never-married|                 ?| Own-child| White| Female| 0.0| 0.0|       17|   United-States| <=50K|            3.0|            7.0|          1.0|             7.0|           2.0|       0.0|         1.0|          0.0|  0.0|[3.0,7.0,1.0,7.0,...|[10.7797723838137...|[0.99525547838599...|       0.0|\n",
            "| 17|         ?|659273.0|     11th|    7.0| Never-married|                 ?| Own-child| Black| Female| 0.0| 0.0|       40| Trinadad&Tobago| <=50K|            3.0|            5.0|          1.0|             7.0|           2.0|       1.0|         1.0|         33.0|  0.0|[3.0,5.0,1.0,7.0,...|[10.7119815989939...|[0.98995606175757...|       0.0|\n",
            "| 17| Local-gov|191910.0|     11th|    7.0| Never-married|             Sales| Own-child| White|   Male| 0.0| 0.0|       20|   United-States| <=50K|            2.0|            5.0|          1.0|             4.0|           2.0|       0.0|         0.0|          0.0|  0.0|[2.0,5.0,1.0,4.0,...|[9.80104361274640...|[0.98979905793721...|       0.0|\n",
            "| 17| Local-gov|192387.0|      9th|    5.0| Never-married|     Other-service| Own-child| White|   Male| 0.0| 0.0|       45|   United-States| <=50K|            2.0|           10.0|          1.0|             5.0|           2.0|       0.0|         0.0|          0.0|  0.0|[2.0,10.0,1.0,5.0...|[9.70368026761730...|[0.98883289204698...|       0.0|\n",
            "| 17|   Private| 29571.0|     12th|    8.0| Never-married| Handlers-cleaners| Own-child| White|   Male| 0.0| 0.0|       15|   United-States| <=50K|            0.0|           11.0|          1.0|             9.0|           2.0|       0.0|         0.0|          0.0|  0.0|(14,[1,2,3,4,8,9,...|[10.1773308021882...|[0.99329783639931...|       0.0|\n",
            "| 17|   Private| 32607.0|     10th|    6.0| Never-married|   Farming-fishing| Own-child| White|   Male| 0.0| 0.0|       20|   United-States| <=50K|            0.0|            7.0|          1.0|            10.0|           2.0|       0.0|         0.0|          0.0|  0.0|(14,[1,2,3,4,8,9,...|[10.4565338570879...|[0.99569903455048...|       0.0|\n",
            "| 17|   Private| 33138.0|     12th|    8.0| Never-married|             Sales| Own-child| White|   Male| 0.0| 0.0|       40|   United-States| <=50K|            0.0|           11.0|          1.0|             4.0|           2.0|       0.0|         0.0|          0.0|  0.0|(14,[1,2,3,4,8,9,...|[9.37350699691093...|[0.97870430631789...|       0.0|\n",
            "| 17|   Private| 46402.0|  7th-8th|    4.0| Never-married|             Sales| Own-child| White|   Male| 0.0| 0.0|        8|   United-States| <=50K|            0.0|            8.0|          1.0|             4.0|           2.0|       0.0|         0.0|          0.0|  0.0|(14,[1,2,3,4,8,9,...|[10.5455092058797...|[0.99778336307723...|       0.0|\n",
            "| 17|   Private| 47771.0|     11th|    7.0| Never-married|    Prof-specialty| Own-child| White| Female| 0.0| 0.0|       20|   United-States| <=50K|            0.0|            5.0|          1.0|             0.0|           2.0|       0.0|         1.0|          0.0|  0.0|(14,[1,2,4,6,8,9,...|[10.1347487772297...|[0.99245344144261...|       0.0|\n",
            "+---+----------+--------+---------+-------+--------------+------------------+----------+------+-------+----+----+---------+----------------+------+---------------+---------------+-------------+----------------+--------------+----------+------------+-------------+-----+--------------------+--------------------+--------------------+----------+\n",
            "only showing top 20 rows\n",
            "\n"
          ]
        }
      ]
    },
    {
      "cell_type": "code",
      "source": [
        "predictions.select(\"prediction\", \"label\", \"features\").show()"
      ],
      "metadata": {
        "colab": {
          "base_uri": "https://localhost:8080/"
        },
        "id": "-0DGTtcGMjbU",
        "outputId": "ada4a877-aa11-4c8c-d4fa-6f5c5141d301"
      },
      "execution_count": 49,
      "outputs": [
        {
          "output_type": "stream",
          "name": "stdout",
          "text": [
            "+----------+-----+--------------------+\n",
            "|prediction|label|            features|\n",
            "+----------+-----+--------------------+\n",
            "|       0.0|  0.0|[3.0,5.0,1.0,7.0,...|\n",
            "|       0.0|  0.0|[3.0,5.0,1.0,7.0,...|\n",
            "|       0.0|  0.0|[3.0,10.0,1.0,7.0...|\n",
            "|       0.0|  0.0|[3.0,0.0,1.0,7.0,...|\n",
            "|       0.0|  0.0|[3.0,7.0,1.0,7.0,...|\n",
            "|       0.0|  0.0|[3.0,5.0,1.0,7.0,...|\n",
            "|       0.0|  0.0|[3.0,5.0,1.0,7.0,...|\n",
            "|       0.0|  0.0|[3.0,7.0,1.0,7.0,...|\n",
            "|       0.0|  0.0|[3.0,5.0,1.0,7.0,...|\n",
            "|       0.0|  0.0|[3.0,7.0,1.0,7.0,...|\n",
            "|       0.0|  0.0|[3.0,7.0,1.0,7.0,...|\n",
            "|       0.0|  0.0|[3.0,7.0,1.0,7.0,...|\n",
            "|       0.0|  0.0|[3.0,5.0,1.0,7.0,...|\n",
            "|       0.0|  0.0|[2.0,5.0,1.0,4.0,...|\n",
            "|       0.0|  0.0|[2.0,10.0,1.0,5.0...|\n",
            "|       0.0|  0.0|(14,[1,2,3,4,8,9,...|\n",
            "|       0.0|  0.0|(14,[1,2,3,4,8,9,...|\n",
            "|       0.0|  0.0|(14,[1,2,3,4,8,9,...|\n",
            "|       0.0|  0.0|(14,[1,2,3,4,8,9,...|\n",
            "|       0.0|  0.0|(14,[1,2,4,6,8,9,...|\n",
            "+----------+-----+--------------------+\n",
            "only showing top 20 rows\n",
            "\n"
          ]
        }
      ]
    },
    {
      "cell_type": "code",
      "source": [
        "predictions.select(\"prediction\", \"label\").distinct().show()"
      ],
      "metadata": {
        "colab": {
          "base_uri": "https://localhost:8080/"
        },
        "id": "Imp5QLO4NGur",
        "outputId": "2013ae37-a6e9-4265-f794-2a672b8a77dd"
      },
      "execution_count": 50,
      "outputs": [
        {
          "output_type": "stream",
          "name": "stdout",
          "text": [
            "+----------+-----+\n",
            "|prediction|label|\n",
            "+----------+-----+\n",
            "|       1.0|  1.0|\n",
            "|       0.0|  1.0|\n",
            "|       1.0|  0.0|\n",
            "|       0.0|  0.0|\n",
            "+----------+-----+\n",
            "\n"
          ]
        }
      ]
    },
    {
      "cell_type": "code",
      "source": [
        "predictions.groupBy(\"prediction\", \"label\").count().show()"
      ],
      "metadata": {
        "colab": {
          "base_uri": "https://localhost:8080/"
        },
        "id": "xknGBiAJNGnE",
        "outputId": "4ddbda9c-4b60-42dd-8f45-281cc1a6ff8b"
      },
      "execution_count": 52,
      "outputs": [
        {
          "output_type": "stream",
          "name": "stdout",
          "text": [
            "+----------+-----+-----+\n",
            "|prediction|label|count|\n",
            "+----------+-----+-----+\n",
            "|       1.0|  1.0|  827|\n",
            "|       0.0|  1.0|  732|\n",
            "|       1.0|  0.0|  302|\n",
            "|       0.0|  0.0| 4777|\n",
            "+----------+-----+-----+\n",
            "\n"
          ]
        }
      ]
    },
    {
      "cell_type": "code",
      "source": [
        "from pyspark.ml.evaluation import MulticlassClassificationEvaluator\n",
        "evaluator = MulticlassClassificationEvaluator(predictionCol = \"prediction\", labelCol = \"label\", metricName = \"accuracy\")\n"
      ],
      "metadata": {
        "id": "ts_VIUzNNoHn"
      },
      "execution_count": 55,
      "outputs": []
    },
    {
      "cell_type": "code",
      "source": [
        "accuracy = evaluator.evaluate(predictions)\n",
        "accuracy"
      ],
      "metadata": {
        "colab": {
          "base_uri": "https://localhost:8080/"
        },
        "id": "Xsz3sgFONx0-",
        "outputId": "010f43cb-2408-4827-b321-13805a2d0c1a"
      },
      "execution_count": 58,
      "outputs": [
        {
          "output_type": "execute_result",
          "data": {
            "text/plain": [
              "0.8442301898162097"
            ]
          },
          "metadata": {},
          "execution_count": 58
        }
      ]
    },
    {
      "cell_type": "code",
      "source": [],
      "metadata": {
        "id": "fygpwXUbN_hs"
      },
      "execution_count": null,
      "outputs": []
    }
  ]
}